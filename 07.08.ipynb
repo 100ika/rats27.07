{
 "cells": [
  {
   "cell_type": "code",
   "execution_count": 2,
   "metadata": {},
   "outputs": [],
   "source": [
    "import pandas as pd \n",
    "import numpy as np\n",
    "import matplotlib.pyplot as plt\n",
    "import seaborn as sns\n",
    "import os\n",
    "otu_df = pd.read_csv('dataframes/OTU.csv', sep='\\t', index_col='OTU')\n",
    "taxonomy_df = pd.read_csv('dataframes/hiera_BLAST.csv', sep='\\t', index_col='OTU')\n",
    "metadata_df = pd.read_csv('dataframes/YOGURT-MAP.csv', sep='\\t', index_col='#SampleID')\n",
    "path_df = pd.read_csv('dataframes/path_df.csv', sep = ',')\n",
    "metadata_df = metadata_df.drop(columns=['fastqFile', 'Weight'])\n",
    "df_cmc = pd.read_csv('dataframes/output_data/OTU/df_cmc.csv', sep='\\t', index_col=0)\n",
    "df_cmy = pd.read_csv('dataframes/output_data/OTU/df_cmy.csv', sep='\\t', index_col=0)\n",
    "pathway_meta = pd.read_csv('dataframes/output_data/pathway/relative_abundance.csv', sep=',', index_col=0)"
   ]
  },
  {
   "cell_type": "code",
   "execution_count": 3,
   "metadata": {},
   "outputs": [
    {
     "data": {
      "text/plain": [
       "9"
      ]
     },
     "execution_count": 3,
     "metadata": {},
     "output_type": "execute_result"
    }
   ],
   "source": [
    "meta = metadata_df.copy()\n",
    "#meta = metadata.reset_index().rename(columns={'#SampleID': 'SampleID'}).set_index(\"SampleID\")\n",
    "meta = meta[~meta['Group'].isin(['w1_sch', 'w1_pry', 'w4_con'])]\n",
    "meta['Group'] = meta['Group'].replace({'w1_con': 'CN', 'w4_sch': 'CMC', 'w4_pry':'CMY'})\n",
    "metadata_df = metadata_df.reset_index()\n",
    "meta = meta.reset_index()\n",
    "mismatched_values = metadata_df[~metadata_df['#SampleID'].isin(meta['#SampleID'])]['#SampleID']\n",
    "len(mismatched_values)\n",
    "len(meta[meta['Group']=='CMY'])"
   ]
  },
  {
   "cell_type": "code",
   "execution_count": 4,
   "metadata": {},
   "outputs": [],
   "source": [
    "path = path_df.drop(columns={'Unnamed: 0'})\n",
    "path = path.drop(columns=mismatched_values)\n",
    "pathway_data = path\n",
    "metadata = meta#.drop(columns=['index'])\n",
    "path_to_rel = pathway_data.drop(columns=['pathway', 'description'])\n",
    "column_sums = path_to_rel.sum()\n",
    "relative_abundance = pathway_data.divide(column_sums, axis='columns')"
   ]
  },
  {
   "cell_type": "code",
   "execution_count": 5,
   "metadata": {},
   "outputs": [
    {
     "data": {
      "text/html": [
       "<div>\n",
       "<style scoped>\n",
       "    .dataframe tbody tr th:only-of-type {\n",
       "        vertical-align: middle;\n",
       "    }\n",
       "\n",
       "    .dataframe tbody tr th {\n",
       "        vertical-align: top;\n",
       "    }\n",
       "\n",
       "    .dataframe thead th {\n",
       "        text-align: right;\n",
       "    }\n",
       "</style>\n",
       "<table border=\"1\" class=\"dataframe\">\n",
       "  <thead>\n",
       "    <tr style=\"text-align: right;\">\n",
       "      <th></th>\n",
       "      <th>Group</th>\n",
       "      <th>OTU1</th>\n",
       "      <th>OTU2</th>\n",
       "      <th>OTU3</th>\n",
       "      <th>OTU4</th>\n",
       "      <th>OTU5</th>\n",
       "      <th>OTU6</th>\n",
       "      <th>OTU7</th>\n",
       "      <th>OTU8</th>\n",
       "      <th>OTU9</th>\n",
       "      <th>...</th>\n",
       "      <th>OTU1501</th>\n",
       "      <th>OTU1502</th>\n",
       "      <th>OTU1503</th>\n",
       "      <th>OTU1505</th>\n",
       "      <th>OTU1507</th>\n",
       "      <th>OTU1509</th>\n",
       "      <th>OTU1510</th>\n",
       "      <th>OTU1512</th>\n",
       "      <th>OTU1513</th>\n",
       "      <th>OTU1514</th>\n",
       "    </tr>\n",
       "  </thead>\n",
       "  <tbody>\n",
       "    <tr>\n",
       "      <th>AC1</th>\n",
       "      <td>CMY</td>\n",
       "      <td>0.071246</td>\n",
       "      <td>0.077639</td>\n",
       "      <td>0.012635</td>\n",
       "      <td>0.031167</td>\n",
       "      <td>0.004220</td>\n",
       "      <td>0.027747</td>\n",
       "      <td>0.009662</td>\n",
       "      <td>0.052377</td>\n",
       "      <td>0.006865</td>\n",
       "      <td>...</td>\n",
       "      <td>0.000000</td>\n",
       "      <td>0.000000</td>\n",
       "      <td>0.000000</td>\n",
       "      <td>0.000000</td>\n",
       "      <td>0.000000</td>\n",
       "      <td>0.000000</td>\n",
       "      <td>0.000000</td>\n",
       "      <td>0.000000</td>\n",
       "      <td>0.000000</td>\n",
       "      <td>0.000000</td>\n",
       "    </tr>\n",
       "    <tr>\n",
       "      <th>AC2</th>\n",
       "      <td>CMY</td>\n",
       "      <td>0.082343</td>\n",
       "      <td>0.030703</td>\n",
       "      <td>0.046658</td>\n",
       "      <td>0.009612</td>\n",
       "      <td>0.006941</td>\n",
       "      <td>0.023050</td>\n",
       "      <td>0.010086</td>\n",
       "      <td>0.019767</td>\n",
       "      <td>0.003436</td>\n",
       "      <td>...</td>\n",
       "      <td>0.000000</td>\n",
       "      <td>0.000000</td>\n",
       "      <td>0.000000</td>\n",
       "      <td>0.000000</td>\n",
       "      <td>0.000000</td>\n",
       "      <td>0.000000</td>\n",
       "      <td>0.000000</td>\n",
       "      <td>0.000000</td>\n",
       "      <td>0.000000</td>\n",
       "      <td>0.000000</td>\n",
       "    </tr>\n",
       "    <tr>\n",
       "      <th>AC3</th>\n",
       "      <td>CMY</td>\n",
       "      <td>0.089913</td>\n",
       "      <td>0.048548</td>\n",
       "      <td>0.016842</td>\n",
       "      <td>0.022856</td>\n",
       "      <td>0.004225</td>\n",
       "      <td>0.018149</td>\n",
       "      <td>0.005647</td>\n",
       "      <td>0.057006</td>\n",
       "      <td>0.004707</td>\n",
       "      <td>...</td>\n",
       "      <td>0.000000</td>\n",
       "      <td>0.000000</td>\n",
       "      <td>0.000000</td>\n",
       "      <td>0.000008</td>\n",
       "      <td>0.000000</td>\n",
       "      <td>0.000000</td>\n",
       "      <td>0.000000</td>\n",
       "      <td>0.000000</td>\n",
       "      <td>0.000000</td>\n",
       "      <td>0.000000</td>\n",
       "    </tr>\n",
       "    <tr>\n",
       "      <th>AC4</th>\n",
       "      <td>CMY</td>\n",
       "      <td>0.021595</td>\n",
       "      <td>0.014946</td>\n",
       "      <td>0.017751</td>\n",
       "      <td>0.015281</td>\n",
       "      <td>0.004548</td>\n",
       "      <td>0.014634</td>\n",
       "      <td>0.003708</td>\n",
       "      <td>0.005603</td>\n",
       "      <td>0.014754</td>\n",
       "      <td>...</td>\n",
       "      <td>0.000000</td>\n",
       "      <td>0.000000</td>\n",
       "      <td>0.000000</td>\n",
       "      <td>0.000000</td>\n",
       "      <td>0.000000</td>\n",
       "      <td>0.000000</td>\n",
       "      <td>0.000000</td>\n",
       "      <td>0.000000</td>\n",
       "      <td>0.000000</td>\n",
       "      <td>0.000000</td>\n",
       "    </tr>\n",
       "    <tr>\n",
       "      <th>AC5</th>\n",
       "      <td>CMY</td>\n",
       "      <td>0.080641</td>\n",
       "      <td>0.136312</td>\n",
       "      <td>0.017946</td>\n",
       "      <td>0.014063</td>\n",
       "      <td>0.003426</td>\n",
       "      <td>0.024029</td>\n",
       "      <td>0.003810</td>\n",
       "      <td>0.041682</td>\n",
       "      <td>0.002420</td>\n",
       "      <td>...</td>\n",
       "      <td>0.000000</td>\n",
       "      <td>0.000000</td>\n",
       "      <td>0.000000</td>\n",
       "      <td>0.000000</td>\n",
       "      <td>0.000000</td>\n",
       "      <td>0.000008</td>\n",
       "      <td>0.000000</td>\n",
       "      <td>0.000000</td>\n",
       "      <td>0.000000</td>\n",
       "      <td>0.000000</td>\n",
       "    </tr>\n",
       "    <tr>\n",
       "      <th>AC6</th>\n",
       "      <td>CMY</td>\n",
       "      <td>0.090016</td>\n",
       "      <td>0.055956</td>\n",
       "      <td>0.017955</td>\n",
       "      <td>0.047725</td>\n",
       "      <td>0.003711</td>\n",
       "      <td>0.044788</td>\n",
       "      <td>0.011099</td>\n",
       "      <td>0.023331</td>\n",
       "      <td>0.006625</td>\n",
       "      <td>...</td>\n",
       "      <td>0.000000</td>\n",
       "      <td>0.000000</td>\n",
       "      <td>0.000000</td>\n",
       "      <td>0.000000</td>\n",
       "      <td>0.000000</td>\n",
       "      <td>0.000000</td>\n",
       "      <td>0.000000</td>\n",
       "      <td>0.000000</td>\n",
       "      <td>0.000000</td>\n",
       "      <td>0.000000</td>\n",
       "    </tr>\n",
       "    <tr>\n",
       "      <th>AC7</th>\n",
       "      <td>CMY</td>\n",
       "      <td>0.045135</td>\n",
       "      <td>0.027322</td>\n",
       "      <td>0.014476</td>\n",
       "      <td>0.011771</td>\n",
       "      <td>0.010131</td>\n",
       "      <td>0.022610</td>\n",
       "      <td>0.014203</td>\n",
       "      <td>0.038113</td>\n",
       "      <td>0.003713</td>\n",
       "      <td>...</td>\n",
       "      <td>0.000019</td>\n",
       "      <td>0.000000</td>\n",
       "      <td>0.000000</td>\n",
       "      <td>0.000000</td>\n",
       "      <td>0.000000</td>\n",
       "      <td>0.000000</td>\n",
       "      <td>0.000000</td>\n",
       "      <td>0.000000</td>\n",
       "      <td>0.000000</td>\n",
       "      <td>0.000000</td>\n",
       "    </tr>\n",
       "    <tr>\n",
       "      <th>AC8</th>\n",
       "      <td>CMY</td>\n",
       "      <td>0.015518</td>\n",
       "      <td>0.038855</td>\n",
       "      <td>0.026840</td>\n",
       "      <td>0.014909</td>\n",
       "      <td>0.005066</td>\n",
       "      <td>0.048126</td>\n",
       "      <td>0.006546</td>\n",
       "      <td>0.085295</td>\n",
       "      <td>0.018224</td>\n",
       "      <td>...</td>\n",
       "      <td>0.000000</td>\n",
       "      <td>0.000000</td>\n",
       "      <td>0.000000</td>\n",
       "      <td>0.000000</td>\n",
       "      <td>0.000000</td>\n",
       "      <td>0.000000</td>\n",
       "      <td>0.000000</td>\n",
       "      <td>0.000000</td>\n",
       "      <td>0.000000</td>\n",
       "      <td>0.000000</td>\n",
       "    </tr>\n",
       "    <tr>\n",
       "      <th>AC9</th>\n",
       "      <td>CMY</td>\n",
       "      <td>0.039670</td>\n",
       "      <td>0.126300</td>\n",
       "      <td>0.029567</td>\n",
       "      <td>0.022688</td>\n",
       "      <td>0.002983</td>\n",
       "      <td>0.028702</td>\n",
       "      <td>0.005480</td>\n",
       "      <td>0.031894</td>\n",
       "      <td>0.003839</td>\n",
       "      <td>...</td>\n",
       "      <td>0.000000</td>\n",
       "      <td>0.000000</td>\n",
       "      <td>0.000008</td>\n",
       "      <td>0.000000</td>\n",
       "      <td>0.000000</td>\n",
       "      <td>0.000000</td>\n",
       "      <td>0.000000</td>\n",
       "      <td>0.000000</td>\n",
       "      <td>0.000008</td>\n",
       "      <td>0.000000</td>\n",
       "    </tr>\n",
       "    <tr>\n",
       "      <th>BC1</th>\n",
       "      <td>CN</td>\n",
       "      <td>0.025323</td>\n",
       "      <td>0.023843</td>\n",
       "      <td>0.038332</td>\n",
       "      <td>0.034115</td>\n",
       "      <td>0.047433</td>\n",
       "      <td>0.035096</td>\n",
       "      <td>0.007629</td>\n",
       "      <td>0.003474</td>\n",
       "      <td>0.032492</td>\n",
       "      <td>...</td>\n",
       "      <td>0.000000</td>\n",
       "      <td>0.000000</td>\n",
       "      <td>0.000008</td>\n",
       "      <td>0.000000</td>\n",
       "      <td>0.000000</td>\n",
       "      <td>0.000000</td>\n",
       "      <td>0.000000</td>\n",
       "      <td>0.000000</td>\n",
       "      <td>0.000000</td>\n",
       "      <td>0.000000</td>\n",
       "    </tr>\n",
       "    <tr>\n",
       "      <th>BC10</th>\n",
       "      <td>CN</td>\n",
       "      <td>0.192311</td>\n",
       "      <td>0.020536</td>\n",
       "      <td>0.024304</td>\n",
       "      <td>0.010038</td>\n",
       "      <td>0.018000</td>\n",
       "      <td>0.008757</td>\n",
       "      <td>0.026715</td>\n",
       "      <td>0.074602</td>\n",
       "      <td>0.005668</td>\n",
       "      <td>...</td>\n",
       "      <td>0.000000</td>\n",
       "      <td>0.000000</td>\n",
       "      <td>0.000000</td>\n",
       "      <td>0.000000</td>\n",
       "      <td>0.000000</td>\n",
       "      <td>0.000000</td>\n",
       "      <td>0.000000</td>\n",
       "      <td>0.000000</td>\n",
       "      <td>0.000000</td>\n",
       "      <td>0.000000</td>\n",
       "    </tr>\n",
       "    <tr>\n",
       "      <th>BC2</th>\n",
       "      <td>CN</td>\n",
       "      <td>0.028653</td>\n",
       "      <td>0.012912</td>\n",
       "      <td>0.018313</td>\n",
       "      <td>0.013520</td>\n",
       "      <td>0.021460</td>\n",
       "      <td>0.108575</td>\n",
       "      <td>0.017447</td>\n",
       "      <td>0.002821</td>\n",
       "      <td>0.026878</td>\n",
       "      <td>...</td>\n",
       "      <td>0.000000</td>\n",
       "      <td>0.000000</td>\n",
       "      <td>0.000000</td>\n",
       "      <td>0.000000</td>\n",
       "      <td>0.000000</td>\n",
       "      <td>0.000000</td>\n",
       "      <td>0.000000</td>\n",
       "      <td>0.000000</td>\n",
       "      <td>0.000000</td>\n",
       "      <td>0.000000</td>\n",
       "    </tr>\n",
       "    <tr>\n",
       "      <th>BC3</th>\n",
       "      <td>CN</td>\n",
       "      <td>0.072633</td>\n",
       "      <td>0.057209</td>\n",
       "      <td>0.016396</td>\n",
       "      <td>0.020645</td>\n",
       "      <td>0.041354</td>\n",
       "      <td>0.045501</td>\n",
       "      <td>0.016057</td>\n",
       "      <td>0.005368</td>\n",
       "      <td>0.039528</td>\n",
       "      <td>...</td>\n",
       "      <td>0.000000</td>\n",
       "      <td>0.000000</td>\n",
       "      <td>0.000000</td>\n",
       "      <td>0.000000</td>\n",
       "      <td>0.000000</td>\n",
       "      <td>0.000000</td>\n",
       "      <td>0.000000</td>\n",
       "      <td>0.000000</td>\n",
       "      <td>0.000000</td>\n",
       "      <td>0.000000</td>\n",
       "    </tr>\n",
       "    <tr>\n",
       "      <th>BC4</th>\n",
       "      <td>CN</td>\n",
       "      <td>0.071635</td>\n",
       "      <td>0.028523</td>\n",
       "      <td>0.057634</td>\n",
       "      <td>0.033366</td>\n",
       "      <td>0.025990</td>\n",
       "      <td>0.018657</td>\n",
       "      <td>0.002157</td>\n",
       "      <td>0.008680</td>\n",
       "      <td>0.011665</td>\n",
       "      <td>...</td>\n",
       "      <td>0.000000</td>\n",
       "      <td>0.000000</td>\n",
       "      <td>0.000000</td>\n",
       "      <td>0.000000</td>\n",
       "      <td>0.000000</td>\n",
       "      <td>0.000000</td>\n",
       "      <td>0.000009</td>\n",
       "      <td>0.000000</td>\n",
       "      <td>0.000000</td>\n",
       "      <td>0.000000</td>\n",
       "    </tr>\n",
       "    <tr>\n",
       "      <th>BC5</th>\n",
       "      <td>CN</td>\n",
       "      <td>0.292589</td>\n",
       "      <td>0.014994</td>\n",
       "      <td>0.039369</td>\n",
       "      <td>0.003010</td>\n",
       "      <td>0.029672</td>\n",
       "      <td>0.007127</td>\n",
       "      <td>0.008757</td>\n",
       "      <td>0.003909</td>\n",
       "      <td>0.031535</td>\n",
       "      <td>...</td>\n",
       "      <td>0.000000</td>\n",
       "      <td>0.000000</td>\n",
       "      <td>0.000000</td>\n",
       "      <td>0.000000</td>\n",
       "      <td>0.000000</td>\n",
       "      <td>0.000000</td>\n",
       "      <td>0.000000</td>\n",
       "      <td>0.000000</td>\n",
       "      <td>0.000000</td>\n",
       "      <td>0.000000</td>\n",
       "    </tr>\n",
       "    <tr>\n",
       "      <th>BC6</th>\n",
       "      <td>CN</td>\n",
       "      <td>0.113111</td>\n",
       "      <td>0.012446</td>\n",
       "      <td>0.093813</td>\n",
       "      <td>0.003352</td>\n",
       "      <td>0.021443</td>\n",
       "      <td>0.007536</td>\n",
       "      <td>0.013711</td>\n",
       "      <td>0.005171</td>\n",
       "      <td>0.012814</td>\n",
       "      <td>...</td>\n",
       "      <td>0.000000</td>\n",
       "      <td>0.000000</td>\n",
       "      <td>0.000000</td>\n",
       "      <td>0.000008</td>\n",
       "      <td>0.000000</td>\n",
       "      <td>0.000000</td>\n",
       "      <td>0.000000</td>\n",
       "      <td>0.000008</td>\n",
       "      <td>0.000000</td>\n",
       "      <td>0.000000</td>\n",
       "    </tr>\n",
       "    <tr>\n",
       "      <th>BC7</th>\n",
       "      <td>CN</td>\n",
       "      <td>0.301186</td>\n",
       "      <td>0.048853</td>\n",
       "      <td>0.033898</td>\n",
       "      <td>0.005888</td>\n",
       "      <td>0.009935</td>\n",
       "      <td>0.007840</td>\n",
       "      <td>0.008230</td>\n",
       "      <td>0.001721</td>\n",
       "      <td>0.008417</td>\n",
       "      <td>...</td>\n",
       "      <td>0.000000</td>\n",
       "      <td>0.000007</td>\n",
       "      <td>0.000000</td>\n",
       "      <td>0.000000</td>\n",
       "      <td>0.000007</td>\n",
       "      <td>0.000000</td>\n",
       "      <td>0.000000</td>\n",
       "      <td>0.000000</td>\n",
       "      <td>0.000000</td>\n",
       "      <td>0.000000</td>\n",
       "    </tr>\n",
       "    <tr>\n",
       "      <th>BC8</th>\n",
       "      <td>CN</td>\n",
       "      <td>0.010348</td>\n",
       "      <td>0.006524</td>\n",
       "      <td>0.072548</td>\n",
       "      <td>0.005160</td>\n",
       "      <td>0.030529</td>\n",
       "      <td>0.027331</td>\n",
       "      <td>0.003806</td>\n",
       "      <td>0.016891</td>\n",
       "      <td>0.048313</td>\n",
       "      <td>...</td>\n",
       "      <td>0.000000</td>\n",
       "      <td>0.000000</td>\n",
       "      <td>0.000000</td>\n",
       "      <td>0.000000</td>\n",
       "      <td>0.000000</td>\n",
       "      <td>0.000000</td>\n",
       "      <td>0.000000</td>\n",
       "      <td>0.000000</td>\n",
       "      <td>0.000000</td>\n",
       "      <td>0.000009</td>\n",
       "    </tr>\n",
       "    <tr>\n",
       "      <th>BC9</th>\n",
       "      <td>CN</td>\n",
       "      <td>0.067584</td>\n",
       "      <td>0.020235</td>\n",
       "      <td>0.039749</td>\n",
       "      <td>0.009493</td>\n",
       "      <td>0.066910</td>\n",
       "      <td>0.012735</td>\n",
       "      <td>0.004289</td>\n",
       "      <td>0.000442</td>\n",
       "      <td>0.017862</td>\n",
       "      <td>...</td>\n",
       "      <td>0.000008</td>\n",
       "      <td>0.000000</td>\n",
       "      <td>0.000000</td>\n",
       "      <td>0.000000</td>\n",
       "      <td>0.000000</td>\n",
       "      <td>0.000000</td>\n",
       "      <td>0.000000</td>\n",
       "      <td>0.000000</td>\n",
       "      <td>0.000000</td>\n",
       "      <td>0.000000</td>\n",
       "    </tr>\n",
       "  </tbody>\n",
       "</table>\n",
       "<p>19 rows × 1476 columns</p>\n",
       "</div>"
      ],
      "text/plain": [
       "     Group      OTU1      OTU2      OTU3      OTU4      OTU5      OTU6  \\\n",
       "AC1    CMY  0.071246  0.077639  0.012635  0.031167  0.004220  0.027747   \n",
       "AC2    CMY  0.082343  0.030703  0.046658  0.009612  0.006941  0.023050   \n",
       "AC3    CMY  0.089913  0.048548  0.016842  0.022856  0.004225  0.018149   \n",
       "AC4    CMY  0.021595  0.014946  0.017751  0.015281  0.004548  0.014634   \n",
       "AC5    CMY  0.080641  0.136312  0.017946  0.014063  0.003426  0.024029   \n",
       "AC6    CMY  0.090016  0.055956  0.017955  0.047725  0.003711  0.044788   \n",
       "AC7    CMY  0.045135  0.027322  0.014476  0.011771  0.010131  0.022610   \n",
       "AC8    CMY  0.015518  0.038855  0.026840  0.014909  0.005066  0.048126   \n",
       "AC9    CMY  0.039670  0.126300  0.029567  0.022688  0.002983  0.028702   \n",
       "BC1     CN  0.025323  0.023843  0.038332  0.034115  0.047433  0.035096   \n",
       "BC10    CN  0.192311  0.020536  0.024304  0.010038  0.018000  0.008757   \n",
       "BC2     CN  0.028653  0.012912  0.018313  0.013520  0.021460  0.108575   \n",
       "BC3     CN  0.072633  0.057209  0.016396  0.020645  0.041354  0.045501   \n",
       "BC4     CN  0.071635  0.028523  0.057634  0.033366  0.025990  0.018657   \n",
       "BC5     CN  0.292589  0.014994  0.039369  0.003010  0.029672  0.007127   \n",
       "BC6     CN  0.113111  0.012446  0.093813  0.003352  0.021443  0.007536   \n",
       "BC7     CN  0.301186  0.048853  0.033898  0.005888  0.009935  0.007840   \n",
       "BC8     CN  0.010348  0.006524  0.072548  0.005160  0.030529  0.027331   \n",
       "BC9     CN  0.067584  0.020235  0.039749  0.009493  0.066910  0.012735   \n",
       "\n",
       "          OTU7      OTU8      OTU9  ...   OTU1501   OTU1502   OTU1503  \\\n",
       "AC1   0.009662  0.052377  0.006865  ...  0.000000  0.000000  0.000000   \n",
       "AC2   0.010086  0.019767  0.003436  ...  0.000000  0.000000  0.000000   \n",
       "AC3   0.005647  0.057006  0.004707  ...  0.000000  0.000000  0.000000   \n",
       "AC4   0.003708  0.005603  0.014754  ...  0.000000  0.000000  0.000000   \n",
       "AC5   0.003810  0.041682  0.002420  ...  0.000000  0.000000  0.000000   \n",
       "AC6   0.011099  0.023331  0.006625  ...  0.000000  0.000000  0.000000   \n",
       "AC7   0.014203  0.038113  0.003713  ...  0.000019  0.000000  0.000000   \n",
       "AC8   0.006546  0.085295  0.018224  ...  0.000000  0.000000  0.000000   \n",
       "AC9   0.005480  0.031894  0.003839  ...  0.000000  0.000000  0.000008   \n",
       "BC1   0.007629  0.003474  0.032492  ...  0.000000  0.000000  0.000008   \n",
       "BC10  0.026715  0.074602  0.005668  ...  0.000000  0.000000  0.000000   \n",
       "BC2   0.017447  0.002821  0.026878  ...  0.000000  0.000000  0.000000   \n",
       "BC3   0.016057  0.005368  0.039528  ...  0.000000  0.000000  0.000000   \n",
       "BC4   0.002157  0.008680  0.011665  ...  0.000000  0.000000  0.000000   \n",
       "BC5   0.008757  0.003909  0.031535  ...  0.000000  0.000000  0.000000   \n",
       "BC6   0.013711  0.005171  0.012814  ...  0.000000  0.000000  0.000000   \n",
       "BC7   0.008230  0.001721  0.008417  ...  0.000000  0.000007  0.000000   \n",
       "BC8   0.003806  0.016891  0.048313  ...  0.000000  0.000000  0.000000   \n",
       "BC9   0.004289  0.000442  0.017862  ...  0.000008  0.000000  0.000000   \n",
       "\n",
       "       OTU1505   OTU1507   OTU1509   OTU1510   OTU1512   OTU1513   OTU1514  \n",
       "AC1   0.000000  0.000000  0.000000  0.000000  0.000000  0.000000  0.000000  \n",
       "AC2   0.000000  0.000000  0.000000  0.000000  0.000000  0.000000  0.000000  \n",
       "AC3   0.000008  0.000000  0.000000  0.000000  0.000000  0.000000  0.000000  \n",
       "AC4   0.000000  0.000000  0.000000  0.000000  0.000000  0.000000  0.000000  \n",
       "AC5   0.000000  0.000000  0.000008  0.000000  0.000000  0.000000  0.000000  \n",
       "AC6   0.000000  0.000000  0.000000  0.000000  0.000000  0.000000  0.000000  \n",
       "AC7   0.000000  0.000000  0.000000  0.000000  0.000000  0.000000  0.000000  \n",
       "AC8   0.000000  0.000000  0.000000  0.000000  0.000000  0.000000  0.000000  \n",
       "AC9   0.000000  0.000000  0.000000  0.000000  0.000000  0.000008  0.000000  \n",
       "BC1   0.000000  0.000000  0.000000  0.000000  0.000000  0.000000  0.000000  \n",
       "BC10  0.000000  0.000000  0.000000  0.000000  0.000000  0.000000  0.000000  \n",
       "BC2   0.000000  0.000000  0.000000  0.000000  0.000000  0.000000  0.000000  \n",
       "BC3   0.000000  0.000000  0.000000  0.000000  0.000000  0.000000  0.000000  \n",
       "BC4   0.000000  0.000000  0.000000  0.000009  0.000000  0.000000  0.000000  \n",
       "BC5   0.000000  0.000000  0.000000  0.000000  0.000000  0.000000  0.000000  \n",
       "BC6   0.000008  0.000000  0.000000  0.000000  0.000008  0.000000  0.000000  \n",
       "BC7   0.000000  0.000007  0.000000  0.000000  0.000000  0.000000  0.000000  \n",
       "BC8   0.000000  0.000000  0.000000  0.000000  0.000000  0.000000  0.000009  \n",
       "BC9   0.000000  0.000000  0.000000  0.000000  0.000000  0.000000  0.000000  \n",
       "\n",
       "[19 rows x 1476 columns]"
      ]
     },
     "execution_count": 5,
     "metadata": {},
     "output_type": "execute_result"
    }
   ],
   "source": [
    "df_cmy"
   ]
  },
  {
   "cell_type": "code",
   "execution_count": 6,
   "metadata": {},
   "outputs": [
    {
     "data": {
      "text/html": [
       "<div>\n",
       "<style scoped>\n",
       "    .dataframe tbody tr th:only-of-type {\n",
       "        vertical-align: middle;\n",
       "    }\n",
       "\n",
       "    .dataframe tbody tr th {\n",
       "        vertical-align: top;\n",
       "    }\n",
       "\n",
       "    .dataframe thead th {\n",
       "        text-align: right;\n",
       "    }\n",
       "</style>\n",
       "<table border=\"1\" class=\"dataframe\">\n",
       "  <thead>\n",
       "    <tr style=\"text-align: right;\">\n",
       "      <th></th>\n",
       "      <th>pathway</th>\n",
       "      <th>description</th>\n",
       "      <th>#SampleID</th>\n",
       "      <th>Abundance</th>\n",
       "      <th>Group</th>\n",
       "      <th>relative_abundance</th>\n",
       "    </tr>\n",
       "  </thead>\n",
       "  <tbody>\n",
       "    <tr>\n",
       "      <th>0</th>\n",
       "      <td>1CMET2-PWY</td>\n",
       "      <td>N10-formyl-tetrahydrofolate biosynthesis</td>\n",
       "      <td>AB1</td>\n",
       "      <td>56985.915525</td>\n",
       "      <td>CN</td>\n",
       "      <td>6.932489e-03</td>\n",
       "    </tr>\n",
       "    <tr>\n",
       "      <th>1</th>\n",
       "      <td>3-HYDROXYPHENYLACETATE-DEGRADATION-PWY</td>\n",
       "      <td>4-hydroxyphenylacetate degradation</td>\n",
       "      <td>AB1</td>\n",
       "      <td>14.062229</td>\n",
       "      <td>CN</td>\n",
       "      <td>1.710708e-06</td>\n",
       "    </tr>\n",
       "    <tr>\n",
       "      <th>2</th>\n",
       "      <td>AEROBACTINSYN-PWY</td>\n",
       "      <td>aerobactin biosynthesis</td>\n",
       "      <td>AB1</td>\n",
       "      <td>0.000000</td>\n",
       "      <td>CN</td>\n",
       "      <td>0.000000e+00</td>\n",
       "    </tr>\n",
       "    <tr>\n",
       "      <th>3</th>\n",
       "      <td>ALL-CHORISMATE-PWY</td>\n",
       "      <td>superpathway of chorismate metabolism</td>\n",
       "      <td>AB1</td>\n",
       "      <td>497.560257</td>\n",
       "      <td>CN</td>\n",
       "      <td>6.052954e-05</td>\n",
       "    </tr>\n",
       "    <tr>\n",
       "      <th>4</th>\n",
       "      <td>ANAEROFRUCAT-PWY</td>\n",
       "      <td>homolactic fermentation</td>\n",
       "      <td>AB1</td>\n",
       "      <td>62225.308477</td>\n",
       "      <td>CN</td>\n",
       "      <td>7.569876e-03</td>\n",
       "    </tr>\n",
       "    <tr>\n",
       "      <th>...</th>\n",
       "      <td>...</td>\n",
       "      <td>...</td>\n",
       "      <td>...</td>\n",
       "      <td>...</td>\n",
       "      <td>...</td>\n",
       "      <td>...</td>\n",
       "    </tr>\n",
       "    <tr>\n",
       "      <th>11798</th>\n",
       "      <td>TYRFUMCAT-PWY</td>\n",
       "      <td>L-tyrosine degradation I</td>\n",
       "      <td>BA9</td>\n",
       "      <td>1912.219795</td>\n",
       "      <td>CMC</td>\n",
       "      <td>1.881668e-04</td>\n",
       "    </tr>\n",
       "    <tr>\n",
       "      <th>11799</th>\n",
       "      <td>UBISYN-PWY</td>\n",
       "      <td>superpathway of ubiquinol-8 biosynthesis (prok...</td>\n",
       "      <td>BA9</td>\n",
       "      <td>1836.745445</td>\n",
       "      <td>CMC</td>\n",
       "      <td>1.807399e-04</td>\n",
       "    </tr>\n",
       "    <tr>\n",
       "      <th>11800</th>\n",
       "      <td>UDPNAGSYN-PWY</td>\n",
       "      <td>UDP-N-acetyl-D-glucosamine biosynthesis I</td>\n",
       "      <td>BA9</td>\n",
       "      <td>42170.145429</td>\n",
       "      <td>CMC</td>\n",
       "      <td>4.149638e-03</td>\n",
       "    </tr>\n",
       "    <tr>\n",
       "      <th>11801</th>\n",
       "      <td>VALDEG-PWY</td>\n",
       "      <td>L-valine degradation I</td>\n",
       "      <td>BA9</td>\n",
       "      <td>5.980163</td>\n",
       "      <td>CMC</td>\n",
       "      <td>5.884617e-07</td>\n",
       "    </tr>\n",
       "    <tr>\n",
       "      <th>11802</th>\n",
       "      <td>VALSYN-PWY</td>\n",
       "      <td>L-valine biosynthesis</td>\n",
       "      <td>BA9</td>\n",
       "      <td>77995.470824</td>\n",
       "      <td>CMC</td>\n",
       "      <td>7.674932e-03</td>\n",
       "    </tr>\n",
       "  </tbody>\n",
       "</table>\n",
       "<p>11803 rows × 6 columns</p>\n",
       "</div>"
      ],
      "text/plain": [
       "                                      pathway  \\\n",
       "0                                  1CMET2-PWY   \n",
       "1      3-HYDROXYPHENYLACETATE-DEGRADATION-PWY   \n",
       "2                           AEROBACTINSYN-PWY   \n",
       "3                          ALL-CHORISMATE-PWY   \n",
       "4                            ANAEROFRUCAT-PWY   \n",
       "...                                       ...   \n",
       "11798                           TYRFUMCAT-PWY   \n",
       "11799                              UBISYN-PWY   \n",
       "11800                           UDPNAGSYN-PWY   \n",
       "11801                              VALDEG-PWY   \n",
       "11802                              VALSYN-PWY   \n",
       "\n",
       "                                             description #SampleID  \\\n",
       "0               N10-formyl-tetrahydrofolate biosynthesis       AB1   \n",
       "1                     4-hydroxyphenylacetate degradation       AB1   \n",
       "2                                aerobactin biosynthesis       AB1   \n",
       "3                  superpathway of chorismate metabolism       AB1   \n",
       "4                                homolactic fermentation       AB1   \n",
       "...                                                  ...       ...   \n",
       "11798                           L-tyrosine degradation I       BA9   \n",
       "11799  superpathway of ubiquinol-8 biosynthesis (prok...       BA9   \n",
       "11800          UDP-N-acetyl-D-glucosamine biosynthesis I       BA9   \n",
       "11801                             L-valine degradation I       BA9   \n",
       "11802                              L-valine biosynthesis       BA9   \n",
       "\n",
       "          Abundance Group  relative_abundance  \n",
       "0      56985.915525    CN        6.932489e-03  \n",
       "1         14.062229    CN        1.710708e-06  \n",
       "2          0.000000    CN        0.000000e+00  \n",
       "3        497.560257    CN        6.052954e-05  \n",
       "4      62225.308477    CN        7.569876e-03  \n",
       "...             ...   ...                 ...  \n",
       "11798   1912.219795   CMC        1.881668e-04  \n",
       "11799   1836.745445   CMC        1.807399e-04  \n",
       "11800  42170.145429   CMC        4.149638e-03  \n",
       "11801      5.980163   CMC        5.884617e-07  \n",
       "11802  77995.470824   CMC        7.674932e-03  \n",
       "\n",
       "[11803 rows x 6 columns]"
      ]
     },
     "execution_count": 6,
     "metadata": {},
     "output_type": "execute_result"
    }
   ],
   "source": [
    "# Преобразуем датафрейм из широкого формата в длинный\n",
    "pathway_data_long = pathway_data.melt(id_vars=['pathway', 'description'], var_name='#SampleID', value_name='Abundance')\n",
    "\n",
    "# Объединяем с метаданными\n",
    "pathway_meta = pathway_data_long.merge(metadata, on=\"#SampleID\")\n",
    "total_abundance_per_sample = pathway_meta.groupby('#SampleID')['Abundance'].sum()\n",
    "pathway_meta['relative_abundance'] = pathway_meta.apply(lambda row: row['Abundance'] / total_abundance_per_sample[row['#SampleID']], axis=1)\n",
    "#pathway_meta = pathway_meta.drop(columns=['index']).rename(columns = {'#SampleID':'SampleID'})\n",
    "\n",
    "#pathway_meta = pathway_meta.drop(pathway_meta[pathway_meta['#SampleID'].str.contains('AB10')].index)\n",
    "#pathway_meta = pathway_meta.drop(pathway_meta[pathway_meta['#SampleID'].str.contains('BA10')].index)\n",
    "#pathway_meta.to_csv('dataframes/output_data/relative_abundance.tsv', sep='\\t', index=False)\n",
    "pathway_meta.to_csv('dataframes/output_data/pathway/pathwat_done.csv', sep='\\t', index = False)\n",
    "pathway_meta\n"
   ]
  },
  {
   "cell_type": "code",
   "execution_count": 7,
   "metadata": {},
   "outputs": [
    {
     "data": {
      "text/html": [
       "<div>\n",
       "<style scoped>\n",
       "    .dataframe tbody tr th:only-of-type {\n",
       "        vertical-align: middle;\n",
       "    }\n",
       "\n",
       "    .dataframe tbody tr th {\n",
       "        vertical-align: top;\n",
       "    }\n",
       "\n",
       "    .dataframe thead th {\n",
       "        text-align: right;\n",
       "    }\n",
       "</style>\n",
       "<table border=\"1\" class=\"dataframe\">\n",
       "  <thead>\n",
       "    <tr style=\"text-align: right;\">\n",
       "      <th></th>\n",
       "      <th>pathway</th>\n",
       "      <th>description</th>\n",
       "      <th>#SampleID</th>\n",
       "      <th>Abundance</th>\n",
       "      <th>Group</th>\n",
       "      <th>relative_abundance</th>\n",
       "    </tr>\n",
       "  </thead>\n",
       "  <tbody>\n",
       "    <tr>\n",
       "      <th>0</th>\n",
       "      <td>1CMET2-PWY</td>\n",
       "      <td>N10-formyl-tetrahydrofolate biosynthesis</td>\n",
       "      <td>AB1</td>\n",
       "      <td>56985.915525</td>\n",
       "      <td>CN</td>\n",
       "      <td>6.932489e-03</td>\n",
       "    </tr>\n",
       "    <tr>\n",
       "      <th>1</th>\n",
       "      <td>3-HYDROXYPHENYLACETATE-DEGRADATION-PWY</td>\n",
       "      <td>4-hydroxyphenylacetate degradation</td>\n",
       "      <td>AB1</td>\n",
       "      <td>14.062229</td>\n",
       "      <td>CN</td>\n",
       "      <td>1.710708e-06</td>\n",
       "    </tr>\n",
       "    <tr>\n",
       "      <th>2</th>\n",
       "      <td>AEROBACTINSYN-PWY</td>\n",
       "      <td>aerobactin biosynthesis</td>\n",
       "      <td>AB1</td>\n",
       "      <td>0.000000</td>\n",
       "      <td>CN</td>\n",
       "      <td>0.000000e+00</td>\n",
       "    </tr>\n",
       "    <tr>\n",
       "      <th>3</th>\n",
       "      <td>ALL-CHORISMATE-PWY</td>\n",
       "      <td>superpathway of chorismate metabolism</td>\n",
       "      <td>AB1</td>\n",
       "      <td>497.560257</td>\n",
       "      <td>CN</td>\n",
       "      <td>6.052954e-05</td>\n",
       "    </tr>\n",
       "    <tr>\n",
       "      <th>4</th>\n",
       "      <td>ANAEROFRUCAT-PWY</td>\n",
       "      <td>homolactic fermentation</td>\n",
       "      <td>AB1</td>\n",
       "      <td>62225.308477</td>\n",
       "      <td>CN</td>\n",
       "      <td>7.569876e-03</td>\n",
       "    </tr>\n",
       "    <tr>\n",
       "      <th>...</th>\n",
       "      <td>...</td>\n",
       "      <td>...</td>\n",
       "      <td>...</td>\n",
       "      <td>...</td>\n",
       "      <td>...</td>\n",
       "      <td>...</td>\n",
       "    </tr>\n",
       "    <tr>\n",
       "      <th>11798</th>\n",
       "      <td>TYRFUMCAT-PWY</td>\n",
       "      <td>L-tyrosine degradation I</td>\n",
       "      <td>BA9</td>\n",
       "      <td>1912.219795</td>\n",
       "      <td>CMC</td>\n",
       "      <td>1.881668e-04</td>\n",
       "    </tr>\n",
       "    <tr>\n",
       "      <th>11799</th>\n",
       "      <td>UBISYN-PWY</td>\n",
       "      <td>superpathway of ubiquinol-8 biosynthesis (prok...</td>\n",
       "      <td>BA9</td>\n",
       "      <td>1836.745445</td>\n",
       "      <td>CMC</td>\n",
       "      <td>1.807399e-04</td>\n",
       "    </tr>\n",
       "    <tr>\n",
       "      <th>11800</th>\n",
       "      <td>UDPNAGSYN-PWY</td>\n",
       "      <td>UDP-N-acetyl-D-glucosamine biosynthesis I</td>\n",
       "      <td>BA9</td>\n",
       "      <td>42170.145429</td>\n",
       "      <td>CMC</td>\n",
       "      <td>4.149638e-03</td>\n",
       "    </tr>\n",
       "    <tr>\n",
       "      <th>11801</th>\n",
       "      <td>VALDEG-PWY</td>\n",
       "      <td>L-valine degradation I</td>\n",
       "      <td>BA9</td>\n",
       "      <td>5.980163</td>\n",
       "      <td>CMC</td>\n",
       "      <td>5.884617e-07</td>\n",
       "    </tr>\n",
       "    <tr>\n",
       "      <th>11802</th>\n",
       "      <td>VALSYN-PWY</td>\n",
       "      <td>L-valine biosynthesis</td>\n",
       "      <td>BA9</td>\n",
       "      <td>77995.470824</td>\n",
       "      <td>CMC</td>\n",
       "      <td>7.674932e-03</td>\n",
       "    </tr>\n",
       "  </tbody>\n",
       "</table>\n",
       "<p>8140 rows × 6 columns</p>\n",
       "</div>"
      ],
      "text/plain": [
       "                                      pathway  \\\n",
       "0                                  1CMET2-PWY   \n",
       "1      3-HYDROXYPHENYLACETATE-DEGRADATION-PWY   \n",
       "2                           AEROBACTINSYN-PWY   \n",
       "3                          ALL-CHORISMATE-PWY   \n",
       "4                            ANAEROFRUCAT-PWY   \n",
       "...                                       ...   \n",
       "11798                           TYRFUMCAT-PWY   \n",
       "11799                              UBISYN-PWY   \n",
       "11800                           UDPNAGSYN-PWY   \n",
       "11801                              VALDEG-PWY   \n",
       "11802                              VALSYN-PWY   \n",
       "\n",
       "                                             description #SampleID  \\\n",
       "0               N10-formyl-tetrahydrofolate biosynthesis       AB1   \n",
       "1                     4-hydroxyphenylacetate degradation       AB1   \n",
       "2                                aerobactin biosynthesis       AB1   \n",
       "3                  superpathway of chorismate metabolism       AB1   \n",
       "4                                homolactic fermentation       AB1   \n",
       "...                                                  ...       ...   \n",
       "11798                           L-tyrosine degradation I       BA9   \n",
       "11799  superpathway of ubiquinol-8 biosynthesis (prok...       BA9   \n",
       "11800          UDP-N-acetyl-D-glucosamine biosynthesis I       BA9   \n",
       "11801                             L-valine degradation I       BA9   \n",
       "11802                              L-valine biosynthesis       BA9   \n",
       "\n",
       "          Abundance Group  relative_abundance  \n",
       "0      56985.915525    CN        6.932489e-03  \n",
       "1         14.062229    CN        1.710708e-06  \n",
       "2          0.000000    CN        0.000000e+00  \n",
       "3        497.560257    CN        6.052954e-05  \n",
       "4      62225.308477    CN        7.569876e-03  \n",
       "...             ...   ...                 ...  \n",
       "11798   1912.219795   CMC        1.881668e-04  \n",
       "11799   1836.745445   CMC        1.807399e-04  \n",
       "11800  42170.145429   CMC        4.149638e-03  \n",
       "11801      5.980163   CMC        5.884617e-07  \n",
       "11802  77995.470824   CMC        7.674932e-03  \n",
       "\n",
       "[8140 rows x 6 columns]"
      ]
     },
     "execution_count": 7,
     "metadata": {},
     "output_type": "execute_result"
    }
   ],
   "source": [
    "filtered_pathway_meta_cmc = pathway_meta[pathway_meta['#SampleID'].str.startswith(('AB', 'BA'))]\n",
    "filtered_pathway_meta_cmy = pathway_meta[pathway_meta['#SampleID'].str.startswith(('AB', 'AC'))]\n",
    "filtered_pathway_meta_cmc.to_csv('delete.csv', sep = ',')\n",
    "filtered_pathway_meta_cmc"
   ]
  },
  {
   "cell_type": "code",
   "execution_count": 8,
   "metadata": {},
   "outputs": [
    {
     "name": "stdout",
     "output_type": "stream",
     "text": [
      "Count of pathways is: 6\n"
     ]
    },
    {
     "data": {
      "text/html": [
       "<div>\n",
       "<style scoped>\n",
       "    .dataframe tbody tr th:only-of-type {\n",
       "        vertical-align: middle;\n",
       "    }\n",
       "\n",
       "    .dataframe tbody tr th {\n",
       "        vertical-align: top;\n",
       "    }\n",
       "\n",
       "    .dataframe thead th {\n",
       "        text-align: right;\n",
       "    }\n",
       "</style>\n",
       "<table border=\"1\" class=\"dataframe\">\n",
       "  <thead>\n",
       "    <tr style=\"text-align: right;\">\n",
       "      <th></th>\n",
       "      <th>CMC</th>\n",
       "      <th>CN</th>\n",
       "      <th>p_value</th>\n",
       "      <th>diff</th>\n",
       "    </tr>\n",
       "    <tr>\n",
       "      <th>description</th>\n",
       "      <th></th>\n",
       "      <th></th>\n",
       "      <th></th>\n",
       "      <th></th>\n",
       "    </tr>\n",
       "  </thead>\n",
       "  <tbody>\n",
       "    <tr>\n",
       "      <th>1,4-dihydroxy-6-naphthoate biosynthesis I</th>\n",
       "      <td>0.000271</td>\n",
       "      <td>0.000112</td>\n",
       "      <td>5.138605e-05</td>\n",
       "      <td>-0.000160</td>\n",
       "    </tr>\n",
       "    <tr>\n",
       "      <th>pyridoxal 5'-phosphate biosynthesis I</th>\n",
       "      <td>0.002145</td>\n",
       "      <td>0.001050</td>\n",
       "      <td>1.752780e-05</td>\n",
       "      <td>-0.001095</td>\n",
       "    </tr>\n",
       "    <tr>\n",
       "      <th>pyrimidine deoxyribonucleotides de novo biosynthesis III</th>\n",
       "      <td>0.002388</td>\n",
       "      <td>0.003038</td>\n",
       "      <td>1.066452e-04</td>\n",
       "      <td>0.000650</td>\n",
       "    </tr>\n",
       "    <tr>\n",
       "      <th>pyruvate fermentation to propanoate I</th>\n",
       "      <td>0.004610</td>\n",
       "      <td>0.002238</td>\n",
       "      <td>1.128909e-07</td>\n",
       "      <td>-0.002372</td>\n",
       "    </tr>\n",
       "    <tr>\n",
       "      <th>superpathway of menaquinol-8 biosynthesis II</th>\n",
       "      <td>0.000779</td>\n",
       "      <td>0.000394</td>\n",
       "      <td>7.281888e-05</td>\n",
       "      <td>-0.000385</td>\n",
       "    </tr>\n",
       "    <tr>\n",
       "      <th>superpathway of pyridoxal 5'-phosphate biosynthesis and salvage</th>\n",
       "      <td>0.002352</td>\n",
       "      <td>0.001316</td>\n",
       "      <td>1.020663e-05</td>\n",
       "      <td>-0.001035</td>\n",
       "    </tr>\n",
       "  </tbody>\n",
       "</table>\n",
       "</div>"
      ],
      "text/plain": [
       "                                                         CMC        CN  \\\n",
       "description                                                              \n",
       "1,4-dihydroxy-6-naphthoate biosynthesis I           0.000271  0.000112   \n",
       "pyridoxal 5'-phosphate biosynthesis I               0.002145  0.001050   \n",
       "pyrimidine deoxyribonucleotides de novo biosynt...  0.002388  0.003038   \n",
       "pyruvate fermentation to propanoate I               0.004610  0.002238   \n",
       "superpathway of menaquinol-8 biosynthesis II        0.000779  0.000394   \n",
       "superpathway of pyridoxal 5'-phosphate biosynth...  0.002352  0.001316   \n",
       "\n",
       "                                                         p_value      diff  \n",
       "description                                                                 \n",
       "1,4-dihydroxy-6-naphthoate biosynthesis I           5.138605e-05 -0.000160  \n",
       "pyridoxal 5'-phosphate biosynthesis I               1.752780e-05 -0.001095  \n",
       "pyrimidine deoxyribonucleotides de novo biosynt...  1.066452e-04  0.000650  \n",
       "pyruvate fermentation to propanoate I               1.128909e-07 -0.002372  \n",
       "superpathway of menaquinol-8 biosynthesis II        7.281888e-05 -0.000385  \n",
       "superpathway of pyridoxal 5'-phosphate biosynth...  1.020663e-05 -0.001035  "
      ]
     },
     "execution_count": 8,
     "metadata": {},
     "output_type": "execute_result"
    }
   ],
   "source": [
    "from scipy import stats\n",
    "import numpy as np\n",
    "\n",
    "df_cmc = filtered_pathway_meta_cmc.copy()\n",
    "p_values_cmc = df_cmc.groupby('description').apply(lambda x: stats.ttest_ind(x[x['Group']=='CN']['relative_abundance'], x[x['Group']=='CMC']['relative_abundance'])[1])\n",
    "corrected_p_values_cmy = p_values_cmc * len(p_values_cmc)\n",
    "\n",
    "# Создаем сводную таблицу для дальнейшего анализа\n",
    "heatmap_df_cmc = df_cmc.pivot_table(index='description', columns='Group', values='relative_abundance', aggfunc='mean')\n",
    "\n",
    "# Убираем значения, где p-value >= 0.05\n",
    "#heatmap_df_cmc[p_values_cmc >= 0.05] = np.nan\n",
    "heatmap_df_cmc[corrected_p_values_cmy >= 0.05] = np.nan\n",
    "heatmap_df_cmc = heatmap_df_cmc.dropna()\n",
    "\n",
    "# Рассчитываем разницу средних\n",
    "df_means_cmc = heatmap_df_cmc['CN'] - heatmap_df_cmc['CMC']\n",
    "df_means_cmc = df_means_cmc.to_frame()\n",
    "df_means_cmc.columns = ['diff']\n",
    "\n",
    "# Объединяем все в один датафрейм\n",
    "final_df_cmc = heatmap_df_cmc.join(p_values_cmc.rename('p_value')).join(df_means_cmc)\n",
    "final_df_cmc = final_df_cmc.dropna()\n",
    "print(f'Count of pathways is: {final_df_cmc.shape[0]}')\n",
    "final_df_cmc.to_csv('dataframes/output_data/pathway/final_pathway_cmc.csv', sep = '\\t', index=True)\n",
    "final_df_cmc"
   ]
  },
  {
   "cell_type": "code",
   "execution_count": 9,
   "metadata": {},
   "outputs": [
    {
     "data": {
      "text/html": [
       "<div>\n",
       "<style scoped>\n",
       "    .dataframe tbody tr th:only-of-type {\n",
       "        vertical-align: middle;\n",
       "    }\n",
       "\n",
       "    .dataframe tbody tr th {\n",
       "        vertical-align: top;\n",
       "    }\n",
       "\n",
       "    .dataframe thead th {\n",
       "        text-align: right;\n",
       "    }\n",
       "</style>\n",
       "<table border=\"1\" class=\"dataframe\">\n",
       "  <thead>\n",
       "    <tr style=\"text-align: right;\">\n",
       "      <th>Group</th>\n",
       "      <th>CMC</th>\n",
       "      <th>CN</th>\n",
       "    </tr>\n",
       "    <tr>\n",
       "      <th>description</th>\n",
       "      <th></th>\n",
       "      <th></th>\n",
       "    </tr>\n",
       "  </thead>\n",
       "  <tbody>\n",
       "    <tr>\n",
       "      <th>1,4-dihydroxy-6-naphthoate biosynthesis I</th>\n",
       "      <td>0.000271</td>\n",
       "      <td>0.000112</td>\n",
       "    </tr>\n",
       "    <tr>\n",
       "      <th>chlorosalicylate degradation</th>\n",
       "      <td>0.000000</td>\n",
       "      <td>0.000000</td>\n",
       "    </tr>\n",
       "    <tr>\n",
       "      <th>pyridoxal 5'-phosphate biosynthesis I</th>\n",
       "      <td>0.002145</td>\n",
       "      <td>0.001050</td>\n",
       "    </tr>\n",
       "    <tr>\n",
       "      <th>pyrimidine deoxyribonucleotides de novo biosynthesis III</th>\n",
       "      <td>0.002388</td>\n",
       "      <td>0.003038</td>\n",
       "    </tr>\n",
       "    <tr>\n",
       "      <th>pyruvate fermentation to propanoate I</th>\n",
       "      <td>0.004610</td>\n",
       "      <td>0.002238</td>\n",
       "    </tr>\n",
       "    <tr>\n",
       "      <th>superpathway of bacteriochlorophyll a biosynthesis</th>\n",
       "      <td>0.000000</td>\n",
       "      <td>0.000000</td>\n",
       "    </tr>\n",
       "    <tr>\n",
       "      <th>superpathway of menaquinol-8 biosynthesis II</th>\n",
       "      <td>0.000779</td>\n",
       "      <td>0.000394</td>\n",
       "    </tr>\n",
       "    <tr>\n",
       "      <th>superpathway of polyamine biosynthesis III</th>\n",
       "      <td>0.000000</td>\n",
       "      <td>0.000000</td>\n",
       "    </tr>\n",
       "    <tr>\n",
       "      <th>superpathway of pyridoxal 5'-phosphate biosynthesis and salvage</th>\n",
       "      <td>0.002352</td>\n",
       "      <td>0.001316</td>\n",
       "    </tr>\n",
       "  </tbody>\n",
       "</table>\n",
       "</div>"
      ],
      "text/plain": [
       "Group                                                    CMC        CN\n",
       "description                                                           \n",
       "1,4-dihydroxy-6-naphthoate biosynthesis I           0.000271  0.000112\n",
       "chlorosalicylate degradation                        0.000000  0.000000\n",
       "pyridoxal 5'-phosphate biosynthesis I               0.002145  0.001050\n",
       "pyrimidine deoxyribonucleotides de novo biosynt...  0.002388  0.003038\n",
       "pyruvate fermentation to propanoate I               0.004610  0.002238\n",
       "superpathway of bacteriochlorophyll a biosynthesis  0.000000  0.000000\n",
       "superpathway of menaquinol-8 biosynthesis II        0.000779  0.000394\n",
       "superpathway of polyamine biosynthesis III          0.000000  0.000000\n",
       "superpathway of pyridoxal 5'-phosphate biosynth...  0.002352  0.001316"
      ]
     },
     "execution_count": 9,
     "metadata": {},
     "output_type": "execute_result"
    }
   ],
   "source": [
    "heatmap_df_cmc"
   ]
  },
  {
   "cell_type": "code",
   "execution_count": 10,
   "metadata": {},
   "outputs": [
    {
     "name": "stdout",
     "output_type": "stream",
     "text": [
      "Count of pathways is: 26\n"
     ]
    }
   ],
   "source": [
    "from scipy import stats\n",
    "import numpy as np\n",
    "\n",
    "df_cmy = filtered_pathway_meta_cmy.copy()\n",
    "p_values_cmy = df_cmy.groupby('description').apply(lambda x: stats.ttest_ind(x[x['Group']=='CN']['relative_abundance'], x[x['Group']=='CMY']['relative_abundance'])[1])\n",
    "corrected_p_values_cmy = p_values_cmy * len(p_values_cmy)\n",
    "\n",
    "# Создаем сводную таблицу для дальнейшего анализа\n",
    "heatmap_df_cmy = df_cmy.pivot_table(index='description', columns='Group', values='relative_abundance', aggfunc='mean')\n",
    "\n",
    "# Убираем значения, где p-value >= 0.05\n",
    "heatmap_df_cmy[corrected_p_values_cmy >= 0.05] = np.nan\n",
    "\n",
    "#heatmap_df_cmy[p_values_cmy >= 0.05] = np.nan\n",
    "heatmap_df_cmy = heatmap_df_cmy.dropna()\n",
    "\n",
    "# Рассчитываем разницу средних\n",
    "df_means_cmy = heatmap_df_cmy['CN'] - heatmap_df_cmy['CMY']\n",
    "df_means_cmy = df_means_cmy.to_frame()\n",
    "df_means_cmy.columns = ['diff']\n",
    "\n",
    "# Объединяем все в один датафрейм\n",
    "final_df_cmy = heatmap_df_cmy.join(p_values_cmy.rename('p_value')).join(df_means_cmy)\n",
    "final_df_cmy = final_df_cmy.dropna()\n",
    "print(f'Count of pathways is: {final_df_cmy.shape[0]}')\n",
    "final_df_cmy.to_csv('dataframes/output_data/pathway/final_pathway_cmy.csv', sep = '\\t', index=True)"
   ]
  },
  {
   "cell_type": "code",
   "execution_count": 19,
   "metadata": {},
   "outputs": [
    {
     "name": "stderr",
     "output_type": "stream",
     "text": [
      "/tmp/ipykernel_8792/3670890603.py:25: UserWarning:\n",
      "\n",
      "This figure includes Axes that are not compatible with tight_layout, so results might be incorrect.\n",
      "\n"
     ]
    },
    {
     "data": {
      "image/png": "[encoded data removed]",
      "text/plain": [
       "<Figure size 2000x150 with 5 Axes>"
      ]
     },
     "metadata": {},
     "output_type": "display_data"
    }
   ],
   "source": [
    "fig, (ax1, ax2, ax3) = plt.subplots(1, 3, figsize=(20, 1.5), gridspec_kw={'width_ratios': [4, 4, 2], 'wspace': 0.5})\n",
    "plt.subplots_adjust(left=0.6, right=0.9)\n",
    "\n",
    "colors = ['blue' if x > 0 else 'red' for x in final_df_cmc['diff']]\n",
    "final_df_cmc['diff'].plot(kind='barh', ax=ax2, color=colors, title='Difference in means')\n",
    "ax2.yaxis.grid(True, color='gray', linewidth=0.5, linestyle='dashed')\n",
    "ax2.set_facecolor(\"whitesmoke\")\n",
    "ax2.set_yticklabels([])\n",
    "ax2.set_ylabel('')\n",
    "\n",
    "# Reorder the columns for heatmap\n",
    "final_df_cmc = final_df_cmc.rename(columns = {'CN_CMC':'CN'})\n",
    "heatmap_df = final_df_cmc[['CN', 'CMC']]\n",
    "heatmap = sns.heatmap(heatmap_df, cmap='coolwarm', cbar=False, annot=True, linewidths=.1, linecolor='black', cbar_kws={\"shrink\": 0.6}, ax=ax1, annot_kws={'size':7})\n",
    "heatmap.figure.colorbar(heatmap.collections[0], ax=ax1).ax.tick_params(labelsize=8)\n",
    "ax1.set_title(f'Relative abundance')\n",
    "\n",
    "heatmap = sns.heatmap(final_df_cmc[['p_value']], cmap='coolwarm', cbar=False, annot=True, linewidths=.1, linecolor='black', ax=ax3, annot_kws={'size':7})\n",
    "heatmap.figure.colorbar(heatmap.collections[0], ax=ax3).ax.tick_params(labelsize=8)\n",
    "ax3.set_yticklabels([])\n",
    "ax3.set_ylabel('')\n",
    "ax3.set_title(f'P-values')\n",
    "\n",
    "plt.suptitle(\"\", fontsize=12, fontweight='bold', x = 0.7)\n",
    "plt.tight_layout()\n",
    "plt.savefig('figures/pathway/pathway_cmc.pdf', bbox_inches='tight')\n",
    "plt.show()\n"
   ]
  },
  {
   "cell_type": "code",
   "execution_count": 12,
   "metadata": {},
   "outputs": [
    {
     "data": {
      "application/vnd.plotly.v1+json": {
       "config": {
        "plotlyServerURL": "https://plot.ly"
       },
       "data": [
        {
         "colorscale": [
          [
           0,
           "rgb(103,0,31)"
          ],
          [
           0.1,
           "rgb(178,24,43)"
          ],
          [
           0.2,
           "rgb(214,96,77)"
          ],
          [
           0.3,
           "rgb(244,165,130)"
          ],
          [
           0.4,
           "rgb(253,219,199)"
          ],
          [
           0.5,
           "rgb(247,247,247)"
          ],
          [
           0.6,
           "rgb(209,229,240)"
          ],
          [
           0.7,
           "rgb(146,197,222)"
          ],
          [
           0.8,
           "rgb(67,147,195)"
          ],
          [
           0.9,
           "rgb(33,102,172)"
          ],
          [
           1,
           "rgb(5,48,97)"
          ]
         ],
         "showscale": false,
         "type": "heatmap",
         "x": [
          "CN",
          "CMC"
         ],
         "xaxis": "x",
         "y": [
          "1,4-dihydroxy-6-naphthoate biosynthesis I",
          "pyridoxal 5'-phosphate biosynthesis I",
          "pyrimidine deoxyribonucleotides de novo biosynthesis III",
          "pyruvate fermentation to propanoate I",
          "superpathway of menaquinol-8 biosynthesis II",
          "superpathway of pyridoxal 5'-phosphate biosynthesis and salvage"
         ],
         "yaxis": "y",
         "z": [
          [
           0.00011161406430411911,
           0.0002714098133949677
          ],
          [
           0.0010497950304449478,
           0.0021448628837829687
          ],
          [
           0.00303775481402002,
           0.002387515117547577
          ],
          [
           0.0022381257416241164,
           0.004610275326473905
          ],
          [
           0.0003937812602828112,
           0.0007789491298615646
          ],
          [
           0.0013163234492256167,
           0.002351656384629276
          ]
         ]
        },
        {
         "marker": {
          "color": [
           "red",
           "red",
           "blue",
           "red",
           "red",
           "red"
          ]
         },
         "orientation": "h",
         "type": "bar",
         "x": [
          -0.0001597957490908486,
          -0.0010950678533380208,
          0.000650239696472443,
          -0.0023721495848497884,
          -0.00038516786957875336,
          -0.0010353329354036594
         ],
         "xaxis": "x2",
         "y": [
          "1,4-dihydroxy-6-naphthoate biosynthesis I",
          "pyridoxal 5'-phosphate biosynthesis I",
          "pyrimidine deoxyribonucleotides de novo biosynthesis III",
          "pyruvate fermentation to propanoate I",
          "superpathway of menaquinol-8 biosynthesis II",
          "superpathway of pyridoxal 5'-phosphate biosynthesis and salvage"
         ],
         "yaxis": "y2"
        },
        {
         "colorbar": {
          "x": 0.8
         },
         "colorscale": [
          [
           0,
           "rgb(103,0,31)"
          ],
          [
           0.1,
           "rgb(178,24,43)"
          ],
          [
           0.2,
           "rgb(214,96,77)"
          ],
          [
           0.3,
           "rgb(244,165,130)"
          ],
          [
           0.4,
           "rgb(253,219,199)"
          ],
          [
           0.5,
           "rgb(247,247,247)"
          ],
          [
           0.6,
           "rgb(209,229,240)"
          ],
          [
           0.7,
           "rgb(146,197,222)"
          ],
          [
           0.8,
           "rgb(67,147,195)"
          ],
          [
           0.9,
           "rgb(33,102,172)"
          ],
          [
           1,
           "rgb(5,48,97)"
          ]
         ],
         "type": "heatmap",
         "x": [
          "p_value"
         ],
         "xaxis": "x3",
         "y": [
          "1,4-dihydroxy-6-naphthoate biosynthesis I",
          "pyridoxal 5'-phosphate biosynthesis I",
          "pyrimidine deoxyribonucleotides de novo biosynthesis III",
          "pyruvate fermentation to propanoate I",
          "superpathway of menaquinol-8 biosynthesis II",
          "superpathway of pyridoxal 5'-phosphate biosynthesis and salvage"
         ],
         "yaxis": "y3",
         "z": [
          [
           0.00005138604888713765
          ],
          [
           0.00001752779993873316
          ],
          [
           0.00010664520502652972
          ],
          [
           1.1289087004725619e-7
          ],
          [
           0.00007281888063265764
          ],
          [
           0.000010206627534741842
          ]
         ]
        }
       ],
       "layout": {
        "annotations": [
         {
          "font": {
           "size": 16
          },
          "showarrow": false,
          "text": "Relative abundance",
          "x": 0.14444444444444446,
          "xanchor": "center",
          "xref": "paper",
          "y": 1,
          "yanchor": "bottom",
          "yref": "paper"
         },
         {
          "font": {
           "size": 16
          },
          "showarrow": false,
          "text": "Difference in means",
          "x": 0.5,
          "xanchor": "center",
          "xref": "paper",
          "y": 1,
          "yanchor": "bottom",
          "yref": "paper"
         }
        ],
        "height": 300,
        "shapes": [
         {
          "line": {
           "color": "white"
          },
          "type": "line",
          "x0": -0.5,
          "x1": 1.5,
          "xref": "x",
          "y0": -0.5,
          "y1": -0.5,
          "yref": "y"
         },
         {
          "line": {
           "color": "white"
          },
          "type": "line",
          "x0": -0.5,
          "x1": 1.5,
          "xref": "x",
          "y0": 0.5,
          "y1": 0.5,
          "yref": "y"
         },
         {
          "line": {
           "color": "white"
          },
          "type": "line",
          "x0": -0.5,
          "x1": 1.5,
          "xref": "x",
          "y0": 1.5,
          "y1": 1.5,
          "yref": "y"
         },
         {
          "line": {
           "color": "white"
          },
          "type": "line",
          "x0": -0.5,
          "x1": 1.5,
          "xref": "x",
          "y0": 2.5,
          "y1": 2.5,
          "yref": "y"
         },
         {
          "line": {
           "color": "white"
          },
          "type": "line",
          "x0": -0.5,
          "x1": 1.5,
          "xref": "x",
          "y0": 3.5,
          "y1": 3.5,
          "yref": "y"
         },
         {
          "line": {
           "color": "white"
          },
          "type": "line",
          "x0": -0.5,
          "x1": 1.5,
          "xref": "x",
          "y0": 4.5,
          "y1": 4.5,
          "yref": "y"
         },
         {
          "line": {
           "color": "white"
          },
          "type": "line",
          "x0": -0.5,
          "x1": 1.5,
          "xref": "x",
          "y0": 5.5,
          "y1": 5.5,
          "yref": "y"
         },
         {
          "line": {
           "color": "white"
          },
          "type": "line",
          "x0": -0.5,
          "x1": -0.5,
          "xref": "x",
          "y0": -0.5,
          "y1": 5.5,
          "yref": "y"
         },
         {
          "line": {
           "color": "white"
          },
          "type": "line",
          "x0": 0.5,
          "x1": 0.5,
          "xref": "x",
          "y0": -0.5,
          "y1": 5.5,
          "yref": "y"
         },
         {
          "line": {
           "color": "white"
          },
          "type": "line",
          "x0": 1.5,
          "x1": 1.5,
          "xref": "x",
          "y0": -0.5,
          "y1": 5.5,
          "yref": "y"
         },
         {
          "line": {
           "color": "black"
          },
          "type": "line",
          "x0": -0.5,
          "x1": 0.5,
          "xref": "x3",
          "y0": -0.5,
          "y1": -0.5,
          "yref": "y3"
         },
         {
          "line": {
           "color": "black"
          },
          "type": "line",
          "x0": -0.5,
          "x1": 0.5,
          "xref": "x3",
          "y0": 0.5,
          "y1": 0.5,
          "yref": "y3"
         },
         {
          "line": {
           "color": "black"
          },
          "type": "line",
          "x0": -0.5,
          "x1": 0.5,
          "xref": "x3",
          "y0": 1.5,
          "y1": 1.5,
          "yref": "y3"
         },
         {
          "line": {
           "color": "black"
          },
          "type": "line",
          "x0": -0.5,
          "x1": 0.5,
          "xref": "x3",
          "y0": 2.5,
          "y1": 2.5,
          "yref": "y3"
         },
         {
          "line": {
           "color": "black"
          },
          "type": "line",
          "x0": -0.5,
          "x1": 0.5,
          "xref": "x3",
          "y0": 3.5,
          "y1": 3.5,
          "yref": "y3"
         },
         {
          "line": {
           "color": "black"
          },
          "type": "line",
          "x0": -0.5,
          "x1": 0.5,
          "xref": "x3",
          "y0": 4.5,
          "y1": 4.5,
          "yref": "y3"
         },
         {
          "line": {
           "color": "black"
          },
          "type": "line",
          "x0": -0.5,
          "x1": 0.5,
          "xref": "x3",
          "y0": 5.5,
          "y1": 5.5,
          "yref": "y3"
         },
         {
          "line": {
           "color": "black"
          },
          "type": "line",
          "x0": -0.5,
          "x1": -0.5,
          "xref": "x3",
          "y0": -0.5,
          "y1": 5.5,
          "yref": "y3"
         },
         {
          "line": {
           "color": "black"
          },
          "type": "line",
          "x0": 0.5,
          "x1": 0.5,
          "xref": "x3",
          "y0": -0.5,
          "y1": 5.5,
          "yref": "y3"
         }
        ],
        "showlegend": false,
        "template": {
         "data": {
          "bar": [
           {
            "error_x": {
             "color": "#2a3f5f"
            },
            "error_y": {
             "color": "#2a3f5f"
            },
            "marker": {
             "line": {
              "color": "#E5ECF6",
              "width": 0.5
             },
             "pattern": {
              "fillmode": "overlay",
              "size": 10,
              "solidity": 0.2
             }
            },
            "type": "bar"
           }
          ],
          "barpolar": [
           {
            "marker": {
             "line": {
              "color": "#E5ECF6",
              "width": 0.5
             },
             "pattern": {
              "fillmode": "overlay",
              "size": 10,
              "solidity": 0.2
             }
            },
            "type": "barpolar"
           }
          ],
          "carpet": [
           {
            "aaxis": {
             "endlinecolor": "#2a3f5f",
             "gridcolor": "white",
             "linecolor": "white",
             "minorgridcolor": "white",
             "startlinecolor": "#2a3f5f"
            },
            "baxis": {
             "endlinecolor": "#2a3f5f",
             "gridcolor": "white",
             "linecolor": "white",
             "minorgridcolor": "white",
             "startlinecolor": "#2a3f5f"
            },
            "type": "carpet"
           }
          ],
          "choropleth": [
           {
            "colorbar": {
             "outlinewidth": 0,
             "ticks": ""
            },
            "type": "choropleth"
           }
          ],
          "contour": [
           {
            "colorbar": {
             "outlinewidth": 0,
             "ticks": ""
            },
            "colorscale": [
             [
              0,
              "#0d0887"
             ],
             [
              0.1111111111111111,
              "#46039f"
             ],
             [
              0.2222222222222222,
              "#7201a8"
             ],
             [
              0.3333333333333333,
              "#9c179e"
             ],
             [
              0.4444444444444444,
              "#bd3786"
             ],
             [
              0.5555555555555556,
              "#d8576b"
             ],
             [
              0.6666666666666666,
              "#ed7953"
             ],
             [
              0.7777777777777778,
              "#fb9f3a"
             ],
             [
              0.8888888888888888,
              "#fdca26"
             ],
             [
              1,
              "#f0f921"
             ]
            ],
            "type": "contour"
           }
          ],
          "contourcarpet": [
           {
            "colorbar": {
             "outlinewidth": 0,
             "ticks": ""
            },
            "type": "contourcarpet"
           }
          ],
          "heatmap": [
           {
            "colorbar": {
             "outlinewidth": 0,
             "ticks": ""
            },
            "colorscale": [
             [
              0,
              "#0d0887"
             ],
             [
              0.1111111111111111,
              "#46039f"
             ],
             [
              0.2222222222222222,
              "#7201a8"
             ],
             [
              0.3333333333333333,
              "#9c179e"
             ],
             [
              0.4444444444444444,
              "#bd3786"
             ],
             [
              0.5555555555555556,
              "#d8576b"
             ],
             [
              0.6666666666666666,
              "#ed7953"
             ],
             [
              0.7777777777777778,
              "#fb9f3a"
             ],
             [
              0.8888888888888888,
              "#fdca26"
             ],
             [
              1,
              "#f0f921"
             ]
            ],
            "type": "heatmap"
           }
          ],
          "heatmapgl": [
           {
            "colorbar": {
             "outlinewidth": 0,
             "ticks": ""
            },
            "colorscale": [
             [
              0,
              "#0d0887"
             ],
             [
              0.1111111111111111,
              "#46039f"
             ],
             [
              0.2222222222222222,
              "#7201a8"
             ],
             [
              0.3333333333333333,
              "#9c179e"
             ],
             [
              0.4444444444444444,
              "#bd3786"
             ],
             [
              0.5555555555555556,
              "#d8576b"
             ],
             [
              0.6666666666666666,
              "#ed7953"
             ],
             [
              0.7777777777777778,
              "#fb9f3a"
             ],
             [
              0.8888888888888888,
              "#fdca26"
             ],
             [
              1,
              "#f0f921"
             ]
            ],
            "type": "heatmapgl"
           }
          ],
          "histogram": [
           {
            "marker": {
             "pattern": {
              "fillmode": "overlay",
              "size": 10,
              "solidity": 0.2
             }
            },
            "type": "histogram"
           }
          ],
          "histogram2d": [
           {
            "colorbar": {
             "outlinewidth": 0,
             "ticks": ""
            },
            "colorscale": [
             [
              0,
              "#0d0887"
             ],
             [
              0.1111111111111111,
              "#46039f"
             ],
             [
              0.2222222222222222,
              "#7201a8"
             ],
             [
              0.3333333333333333,
              "#9c179e"
             ],
             [
              0.4444444444444444,
              "#bd3786"
             ],
             [
              0.5555555555555556,
              "#d8576b"
             ],
             [
              0.6666666666666666,
              "#ed7953"
             ],
             [
              0.7777777777777778,
              "#fb9f3a"
             ],
             [
              0.8888888888888888,
              "#fdca26"
             ],
             [
              1,
              "#f0f921"
             ]
            ],
            "type": "histogram2d"
           }
          ],
          "histogram2dcontour": [
           {
            "colorbar": {
             "outlinewidth": 0,
             "ticks": ""
            },
            "colorscale": [
             [
              0,
              "#0d0887"
             ],
             [
              0.1111111111111111,
              "#46039f"
             ],
             [
              0.2222222222222222,
              "#7201a8"
             ],
             [
              0.3333333333333333,
              "#9c179e"
             ],
             [
              0.4444444444444444,
              "#bd3786"
             ],
             [
              0.5555555555555556,
              "#d8576b"
             ],
             [
              0.6666666666666666,
              "#ed7953"
             ],
             [
              0.7777777777777778,
              "#fb9f3a"
             ],
             [
              0.8888888888888888,
              "#fdca26"
             ],
             [
              1,
              "#f0f921"
             ]
            ],
            "type": "histogram2dcontour"
           }
          ],
          "mesh3d": [
           {
            "colorbar": {
             "outlinewidth": 0,
             "ticks": ""
            },
            "type": "mesh3d"
           }
          ],
          "parcoords": [
           {
            "line": {
             "colorbar": {
              "outlinewidth": 0,
              "ticks": ""
             }
            },
            "type": "parcoords"
           }
          ],
          "pie": [
           {
            "automargin": true,
            "type": "pie"
           }
          ],
          "scatter": [
           {
            "fillpattern": {
             "fillmode": "overlay",
             "size": 10,
             "solidity": 0.2
            },
            "type": "scatter"
           }
          ],
          "scatter3d": [
           {
            "line": {
             "colorbar": {
              "outlinewidth": 0,
              "ticks": ""
             }
            },
            "marker": {
             "colorbar": {
              "outlinewidth": 0,
              "ticks": ""
             }
            },
            "type": "scatter3d"
           }
          ],
          "scattercarpet": [
           {
            "marker": {
             "colorbar": {
              "outlinewidth": 0,
              "ticks": ""
             }
            },
            "type": "scattercarpet"
           }
          ],
          "scattergeo": [
           {
            "marker": {
             "colorbar": {
              "outlinewidth": 0,
              "ticks": ""
             }
            },
            "type": "scattergeo"
           }
          ],
          "scattergl": [
           {
            "marker": {
             "colorbar": {
              "outlinewidth": 0,
              "ticks": ""
             }
            },
            "type": "scattergl"
           }
          ],
          "scattermapbox": [
           {
            "marker": {
             "colorbar": {
              "outlinewidth": 0,
              "ticks": ""
             }
            },
            "type": "scattermapbox"
           }
          ],
          "scatterpolar": [
           {
            "marker": {
             "colorbar": {
              "outlinewidth": 0,
              "ticks": ""
             }
            },
            "type": "scatterpolar"
           }
          ],
          "scatterpolargl": [
           {
            "marker": {
             "colorbar": {
              "outlinewidth": 0,
              "ticks": ""
             }
            },
            "type": "scatterpolargl"
           }
          ],
          "scatterternary": [
           {
            "marker": {
             "colorbar": {
              "outlinewidth": 0,
              "ticks": ""
             }
            },
            "type": "scatterternary"
           }
          ],
          "surface": [
           {
            "colorbar": {
             "outlinewidth": 0,
             "ticks": ""
            },
            "colorscale": [
             [
              0,
              "#0d0887"
             ],
             [
              0.1111111111111111,
              "#46039f"
             ],
             [
              0.2222222222222222,
              "#7201a8"
             ],
             [
              0.3333333333333333,
              "#9c179e"
             ],
             [
              0.4444444444444444,
              "#bd3786"
             ],
             [
              0.5555555555555556,
              "#d8576b"
             ],
             [
              0.6666666666666666,
              "#ed7953"
             ],
             [
              0.7777777777777778,
              "#fb9f3a"
             ],
             [
              0.8888888888888888,
              "#fdca26"
             ],
             [
              1,
              "#f0f921"
             ]
            ],
            "type": "surface"
           }
          ],
          "table": [
           {
            "cells": {
             "fill": {
              "color": "#EBF0F8"
             },
             "line": {
              "color": "white"
             }
            },
            "header": {
             "fill": {
              "color": "#C8D4E3"
             },
             "line": {
              "color": "white"
             }
            },
            "type": "table"
           }
          ]
         },
         "layout": {
          "annotationdefaults": {
           "arrowcolor": "#2a3f5f",
           "arrowhead": 0,
           "arrowwidth": 1
          },
          "autotypenumbers": "strict",
          "coloraxis": {
           "colorbar": {
            "outlinewidth": 0,
            "ticks": ""
           }
          },
          "colorscale": {
           "diverging": [
            [
             0,
             "#8e0152"
            ],
            [
             0.1,
             "#c51b7d"
            ],
            [
             0.2,
             "#de77ae"
            ],
            [
             0.3,
             "#f1b6da"
            ],
            [
             0.4,
             "#fde0ef"
            ],
            [
             0.5,
             "#f7f7f7"
            ],
            [
             0.6,
             "#e6f5d0"
            ],
            [
             0.7,
             "#b8e186"
            ],
            [
             0.8,
             "#7fbc41"
            ],
            [
             0.9,
             "#4d9221"
            ],
            [
             1,
             "#276419"
            ]
           ],
           "sequential": [
            [
             0,
             "#0d0887"
            ],
            [
             0.1111111111111111,
             "#46039f"
            ],
            [
             0.2222222222222222,
             "#7201a8"
            ],
            [
             0.3333333333333333,
             "#9c179e"
            ],
            [
             0.4444444444444444,
             "#bd3786"
            ],
            [
             0.5555555555555556,
             "#d8576b"
            ],
            [
             0.6666666666666666,
             "#ed7953"
            ],
            [
             0.7777777777777778,
             "#fb9f3a"
            ],
            [
             0.8888888888888888,
             "#fdca26"
            ],
            [
             1,
             "#f0f921"
            ]
           ],
           "sequentialminus": [
            [
             0,
             "#0d0887"
            ],
            [
             0.1111111111111111,
             "#46039f"
            ],
            [
             0.2222222222222222,
             "#7201a8"
            ],
            [
             0.3333333333333333,
             "#9c179e"
            ],
            [
             0.4444444444444444,
             "#bd3786"
            ],
            [
             0.5555555555555556,
             "#d8576b"
            ],
            [
             0.6666666666666666,
             "#ed7953"
            ],
            [
             0.7777777777777778,
             "#fb9f3a"
            ],
            [
             0.8888888888888888,
             "#fdca26"
            ],
            [
             1,
             "#f0f921"
            ]
           ]
          },
          "colorway": [
           "#636efa",
           "#EF553B",
           "#00cc96",
           "#ab63fa",
           "#FFA15A",
           "#19d3f3",
           "#FF6692",
           "#B6E880",
           "#FF97FF",
           "#FECB52"
          ],
          "font": {
           "color": "#2a3f5f"
          },
          "geo": {
           "bgcolor": "white",
           "lakecolor": "white",
           "landcolor": "#E5ECF6",
           "showlakes": true,
           "showland": true,
           "subunitcolor": "white"
          },
          "hoverlabel": {
           "align": "left"
          },
          "hovermode": "closest",
          "mapbox": {
           "style": "light"
          },
          "paper_bgcolor": "white",
          "plot_bgcolor": "#E5ECF6",
          "polar": {
           "angularaxis": {
            "gridcolor": "white",
            "linecolor": "white",
            "ticks": ""
           },
           "bgcolor": "#E5ECF6",
           "radialaxis": {
            "gridcolor": "white",
            "linecolor": "white",
            "ticks": ""
           }
          },
          "scene": {
           "xaxis": {
            "backgroundcolor": "#E5ECF6",
            "gridcolor": "white",
            "gridwidth": 2,
            "linecolor": "white",
            "showbackground": true,
            "ticks": "",
            "zerolinecolor": "white"
           },
           "yaxis": {
            "backgroundcolor": "#E5ECF6",
            "gridcolor": "white",
            "gridwidth": 2,
            "linecolor": "white",
            "showbackground": true,
            "ticks": "",
            "zerolinecolor": "white"
           },
           "zaxis": {
            "backgroundcolor": "#E5ECF6",
            "gridcolor": "white",
            "gridwidth": 2,
            "linecolor": "white",
            "showbackground": true,
            "ticks": "",
            "zerolinecolor": "white"
           }
          },
          "shapedefaults": {
           "line": {
            "color": "#2a3f5f"
           }
          },
          "ternary": {
           "aaxis": {
            "gridcolor": "white",
            "linecolor": "white",
            "ticks": ""
           },
           "baxis": {
            "gridcolor": "white",
            "linecolor": "white",
            "ticks": ""
           },
           "bgcolor": "#E5ECF6",
           "caxis": {
            "gridcolor": "white",
            "linecolor": "white",
            "ticks": ""
           }
          },
          "title": {
           "x": 0.05
          },
          "xaxis": {
           "automargin": true,
           "gridcolor": "white",
           "linecolor": "white",
           "ticks": "",
           "title": {
            "standoff": 15
           },
           "zerolinecolor": "white",
           "zerolinewidth": 2
          },
          "yaxis": {
           "automargin": true,
           "gridcolor": "white",
           "linecolor": "white",
           "ticks": "",
           "title": {
            "standoff": 15
           },
           "zerolinecolor": "white",
           "zerolinewidth": 2
          }
         }
        },
        "width": 1200,
        "xaxis": {
         "anchor": "y",
         "domain": [
          0,
          0.3
         ]
        },
        "xaxis2": {
         "anchor": "y2",
         "domain": [
          0.35,
          0.6
         ]
        },
        "xaxis3": {
         "anchor": "y3",
         "domain": [
          0.65,
          0.75
         ]
        },
        "yaxis": {
         "anchor": "x",
         "domain": [
          0,
          1
         ]
        },
        "yaxis2": {
         "anchor": "x2",
         "domain": [
          0,
          1
         ],
         "tickmode": "array",
         "tickvals": []
        },
        "yaxis3": {
         "anchor": "x3",
         "domain": [
          0,
          1
         ],
         "tickmode": "array",
         "tickvals": []
        }
       }
      }
     },
     "metadata": {},
     "output_type": "display_data"
    }
   ],
   "source": [
    "import plotly.graph_objects as go\n",
    "from plotly.subplots import make_subplots\n",
    "import numpy as np\n",
    "\n",
    "def pathway_plotly(data_df, group1, height = 300):\n",
    "    # Создаем подзаголовки\n",
    "    fig = make_subplots(rows=1, cols=3,\n",
    "                        specs=[[{\"type\": \"heatmap\"}, {\"type\": \"bar\"}, {\"type\": \"heatmap\"}]],\n",
    "                        subplot_titles=(\"Relative abundance\", \"Difference in means\"))\n",
    "\n",
    "    # Heatmap для относительного изобилия\n",
    "    heatmap_df = data_df[['CN', group1]]\n",
    "    fig.add_trace(go.Heatmap(z=heatmap_df.values,\n",
    "                            x=heatmap_df.columns,\n",
    "                            y=heatmap_df.index,\n",
    "                            colorscale='RdBu',\n",
    "                            showscale=False),  # Используем 'RdBu' вместо 'coolwarm'\n",
    "                row=1, col=1)\n",
    "\n",
    "    # Добавляем белые линии для границ\n",
    "    n_rows, n_cols = heatmap_df.values.shape\n",
    "    for i in range(n_rows + 1):\n",
    "        fig.add_shape(type=\"line\",\n",
    "                    xref=\"x1\", yref=\"y1\",\n",
    "                    x0=-0.5, y0=i - 0.5, x1=n_cols - 0.5, y1=i - 0.5,\n",
    "                    line=dict(color=\"white\"))\n",
    "\n",
    "    for i in range(n_cols + 1):\n",
    "        fig.add_shape(type=\"line\",\n",
    "                    xref=\"x1\", yref=\"y1\",\n",
    "                    x0=i - 0.5, y0=-0.5, x1=i - 0.5, y1=n_rows - 0.5,\n",
    "                    line=dict(color=\"white\"))\n",
    "\n",
    "    # Столбчатая диаграмма для разности средних\n",
    "    colors = ['blue' if x > 0 else 'red' for x in data_df['diff']]\n",
    "    fig.add_trace(go.Bar(y=data_df.index,\n",
    "                        x=data_df['diff'],\n",
    "                        orientation='h',\n",
    "                        marker=dict(color=colors)),\n",
    "                row=1, col=2)\n",
    "\n",
    "    # Heatmap для p-значений (с границами)\n",
    "    fig.add_trace(go.Heatmap(z=data_df[['p_value']].values,\n",
    "                            x=['p_value'],\n",
    "                            y=data_df.index,\n",
    "                            colorscale='RdBu',\n",
    "                            colorbar=dict(x=0.8)), # Позиция шкалы цвета\n",
    "                row=1, col=3)\n",
    "\n",
    "    # Добавляем белые линии для границ 3-го графика\n",
    "    n_rows, n_cols = data_df[['p_value']].values.shape\n",
    "    for i in range(n_rows + 1):\n",
    "        fig.add_shape(type=\"line\",\n",
    "                    xref=\"x3\", yref=\"y3\",\n",
    "                    x0=-0.5, y0=i - 0.5, x1=n_cols - 0.5, y1=i - 0.5,\n",
    "                    line=dict(color=\"black\"))\n",
    "\n",
    "    for i in range(n_cols + 1):\n",
    "        fig.add_shape(type=\"line\",\n",
    "                    xref=\"x3\", yref=\"y3\",\n",
    "                    x0=i - 0.5, y0=-0.5, x1=i - 0.5, y1=n_rows - 0.5,\n",
    "                    line=dict(color=\"black\"))\n",
    "\n",
    "    # Обновляем оси и прочие параметры графика\n",
    "    fig.update_layout(height=height, width=1200, showlegend=False)\n",
    "    fig.update_layout(\n",
    "        xaxis1=dict(domain=[0.0, 0.3]), # Первый график\n",
    "        xaxis2=dict(domain=[0.35, 0.6]), # Второй график\n",
    "        xaxis3=dict(domain=[0.65, 0.75]) # Третий график\n",
    "    )\n",
    "    fig.update_yaxes(tickmode='array', tickvals=[], row=1, col=2)\n",
    "    fig.update_yaxes(tickmode='array', tickvals=[], row=1, col=3)\n",
    "\n",
    "    fig.write_html(f\"figures/pathway/plotly_beta_{group1}.html\")\n",
    "\n",
    "    # Отображаем график\n",
    "    fig.show()\n",
    "\n",
    "pathway_plotly(final_df_cmc, 'CMC')\n"
   ]
  },
  {
   "cell_type": "code",
   "execution_count": 13,
   "metadata": {},
   "outputs": [
    {
     "data": {
      "image/png": "[encoded data removed]",
      "text/plain": [
       "<Figure size 640x480 with 1 Axes>"
      ]
     },
     "metadata": {},
     "output_type": "display_data"
    }
   ],
   "source": [
    "final_df_cmc[['CN', 'CMC']].plot(kind='bar', stacked=True)\n",
    "plt.title('Relative abundance comparison')\n",
    "plt.ylabel('Value')\n",
    "plt.show()\n"
   ]
  },
  {
   "cell_type": "code",
   "execution_count": 14,
   "metadata": {},
   "outputs": [
    {
     "data": {
      "image/png": "[encoded data removed]",
      "text/plain": [
       "<Figure size 640x480 with 1 Axes>"
      ]
     },
     "metadata": {},
     "output_type": "display_data"
    }
   ],
   "source": [
    "plt.scatter(final_df_cmc.index, final_df_cmc['CN'], color='blue', label='CN')\n",
    "plt.scatter(final_df_cmc.index, final_df_cmc['CMC'], color='red', label='CMC')\n",
    "plt.legend()\n",
    "plt.title('Relative abundance comparison')\n",
    "plt.xlabel('Description')\n",
    "plt.ylabel('Value')\n",
    "plt.xticks(rotation = 270)\n",
    "plt.show()\n"
   ]
  },
  {
   "cell_type": "code",
   "execution_count": 15,
   "metadata": {},
   "outputs": [
    {
     "data": {
      "image/png": "[encoded data removed]",
      "text/plain": [
       "<Figure size 640x480 with 1 Axes>"
      ]
     },
     "metadata": {},
     "output_type": "display_data"
    }
   ],
   "source": [
    "import seaborn as sns\n",
    "import matplotlib.pyplot as plt\n",
    "\n",
    "# Создание нового DataFrame с нужными колонками\n",
    "plot_df = final_df_cmc[['CMC', 'CN']].reset_index()\n",
    "\n",
    "# Построение диаграммы рассеивания\n",
    "sns.scatterplot(x='CMC', y='CN', data=plot_df, hue='description', palette='viridis')\n",
    "\n",
    "plt.xlabel('CMC')\n",
    "plt.ylabel('CN')\n",
    "plt.title('Scatter Plot of CMC vs CN')\n",
    "plt.legend(title='Description', bbox_to_anchor=(1.05, 1), loc='upper left')\n",
    "\n",
    "plt.show()\n"
   ]
  },
  {
   "cell_type": "code",
   "execution_count": 16,
   "metadata": {},
   "outputs": [
    {
     "name": "stderr",
     "output_type": "stream",
     "text": [
      "/tmp/ipykernel_8792/3664898468.py:25: UserWarning:\n",
      "\n",
      "This figure includes Axes that are not compatible with tight_layout, so results might be incorrect.\n",
      "\n"
     ]
    },
    {
     "data": {
      "image/png": "[encoded data removed]",
      "text/plain": [
       "<Figure size 2000x500 with 5 Axes>"
      ]
     },
     "metadata": {},
     "output_type": "display_data"
    }
   ],
   "source": [
    "fig, (ax1, ax2, ax3) = plt.subplots(1, 3, figsize=(20, 5), gridspec_kw={'width_ratios': [4, 4, 2], 'wspace': 0.5})\n",
    "plt.subplots_adjust(left=0.6, right=0.9)\n",
    "\n",
    "colors = ['blue' if x > 0 else 'red' for x in final_df_cmy['diff']]\n",
    "final_df_cmy['diff'].plot(kind='barh', ax=ax2, color=colors, title='Difference in means')\n",
    "ax2.yaxis.grid(True, color='gray', linewidth=0.5, linestyle='dashed')\n",
    "ax2.set_facecolor(\"whitesmoke\")\n",
    "ax2.set_yticklabels([])\n",
    "ax2.set_ylabel('')\n",
    "\n",
    "# Reorder the columns for heatmap\n",
    "final_df_cmy = final_df_cmy.rename(columns = {'CN_CMY':'CN'})\n",
    "heatmap_df = final_df_cmy[['CN', 'CMY']]\n",
    "heatmap = sns.heatmap(heatmap_df, cmap='coolwarm', cbar=False, annot=True, linewidths=.1, linecolor='black', cbar_kws={\"shrink\": 0.6}, ax=ax1, annot_kws={'size':7})\n",
    "heatmap.figure.colorbar(heatmap.collections[0], ax=ax1).ax.tick_params(labelsize=8)\n",
    "ax1.set_title(f'Relative abundance')\n",
    "\n",
    "heatmap = sns.heatmap(final_df_cmy[['p_value']], cmap='coolwarm', cbar=False, annot=True, linewidths=.1, linecolor='black', ax=ax3, annot_kws={'size':7})\n",
    "heatmap.figure.colorbar(heatmap.collections[0], ax=ax3).ax.tick_params(labelsize=8)\n",
    "ax3.set_yticklabels([])\n",
    "ax3.set_ylabel('')\n",
    "ax3.set_title(f'P-values')\n",
    "\n",
    "plt.suptitle(\"\", fontsize=12, fontweight='bold', x = 0.7)\n",
    "plt.tight_layout()\n",
    "plt.savefig('figures/pathway/pathway_cmy.pdf', bbox_inches='tight')\n",
    "plt.show()\n"
   ]
  },
  {
   "cell_type": "code",
   "execution_count": 17,
   "metadata": {},
   "outputs": [
    {
     "data": {
      "application/vnd.plotly.v1+json": {
       "config": {
        "plotlyServerURL": "https://plot.ly"
       },
       "data": [
        {
         "colorscale": [
          [
           0,
           "rgb(103,0,31)"
          ],
          [
           0.1,
           "rgb(178,24,43)"
          ],
          [
           0.2,
           "rgb(214,96,77)"
          ],
          [
           0.3,
           "rgb(244,165,130)"
          ],
          [
           0.4,
           "rgb(253,219,199)"
          ],
          [
           0.5,
           "rgb(247,247,247)"
          ],
          [
           0.6,
           "rgb(209,229,240)"
          ],
          [
           0.7,
           "rgb(146,197,222)"
          ],
          [
           0.8,
           "rgb(67,147,195)"
          ],
          [
           0.9,
           "rgb(33,102,172)"
          ],
          [
           1,
           "rgb(5,48,97)"
          ]
         ],
         "showscale": false,
         "type": "heatmap",
         "x": [
          "CN",
          "CMY"
         ],
         "xaxis": "x",
         "y": [
          "1,4-dihydroxy-6-naphthoate biosynthesis I",
          "8-amino-7-oxononanoate biosynthesis I",
          "L-methionine biosynthesis III",
          "L-tryptophan degradation to 2-amino-3-carboxymuconate semialdehyde",
          "NAD biosynthesis II (from tryptophan)",
          "TCA cycle VIII (helicobacter)",
          "biotin biosynthesis I",
          "biotin biosynthesis II",
          "chondroitin sulfate degradation I (bacterial)",
          "fatty acid &beta;-oxidation I",
          "isopropanol biosynthesis",
          "myo-, chiro- and scillo-inositol degradation",
          "photorespiration",
          "pyridoxal 5'-phosphate biosynthesis I",
          "pyruvate fermentation to butanoate",
          "pyruvate fermentation to propanoate I",
          "superpathway of (R,R)-butanediol biosynthesis",
          "superpathway of 2,3-butanediol biosynthesis",
          "superpathway of Clostridium acetobutylicum acidogenic fermentation",
          "superpathway of glucose and xylose degradation",
          "superpathway of heme biosynthesis from glycine",
          "superpathway of histidine, purine, and pyrimidine biosynthesis",
          "superpathway of menaquinol-8 biosynthesis II",
          "superpathway of pyridoxal 5'-phosphate biosynthesis and salvage",
          "superpathway of pyrimidine deoxyribonucleotides de novo biosynthesis",
          "superpathway of taurine degradation"
         ],
         "yaxis": "y",
         "z": [
          [
           0.00011161406430411911,
           0.00023900071435785158
          ],
          [
           0.0022637003079334496,
           0.0029265282948197674
          ],
          [
           0.0010524799128720948,
           0.0017536579720033437
          ],
          [
           0.0000018542171729883413,
           0.00004094348289105828
          ],
          [
           0.0000029659747599403854,
           0.00006524486678765069
          ],
          [
           0.0013142454391680298,
           0.002507838488913321
          ],
          [
           0.002127020087361327,
           0.0029179141035396644
          ],
          [
           0.00002327372491117253,
           0.00009821345927268313
          ],
          [
           0.00008242912499418875,
           0.00019827671362621863
          ],
          [
           0.00028487453635961076,
           0.000688959337212752
          ],
          [
           0.0000027680573610015454,
           0.00004270448132604032
          ],
          [
           0.000056047625967529066,
           0.0001155093775600017
          ],
          [
           0.00005248700620036229,
           0.00017258537773820438
          ],
          [
           0.0010497950304449478,
           0.002229170593560766
          ],
          [
           0.0005200286964442859,
           0.0010777227257501192
          ],
          [
           0.0022381257416241164,
           0.004312200077938426
          ],
          [
           0.00005226592399799234,
           0.00012363667807302632
          ],
          [
           0.00012109006473211364,
           0.0002399579852140932
          ],
          [
           0.0006566402192067939,
           0.001333759937606635
          ],
          [
           0.0027701212910105468,
           0.003945071470903856
          ],
          [
           0.0005167855462901696,
           0.000971665006856279
          ],
          [
           0.003401613619175268,
           0.004635236745665456
          ],
          [
           0.0003937812602828112,
           0.0007086783835781337
          ],
          [
           0.0013163234492256167,
           0.00253084457152228
          ],
          [
           0.002638430470601825,
           0.0036127421133859672
          ],
          [
           0.000005249651493266624,
           0.00001660955275273991
          ]
         ]
        },
        {
         "marker": {
          "color": [
           "red",
           "red",
           "red",
           "red",
           "red",
           "red",
           "red",
           "red",
           "red",
           "red",
           "red",
           "red",
           "red",
           "red",
           "red",
           "red",
           "red",
           "red",
           "red",
           "red",
           "red",
           "red",
           "red",
           "red",
           "red",
           "red"
          ]
         },
         "orientation": "h",
         "type": "bar",
         "x": [
          -0.00012738665005373247,
          -0.0006628279868863178,
          -0.0007011780591312489,
          -0.00003908926571806994,
          -0.0000622788920277103,
          -0.0011935930497452912,
          -0.0007908940161783376,
          -0.0000749397343615106,
          -0.00011584758863202988,
          -0.00040408480085314127,
          -0.000039936423965038774,
          -0.00005946175159247264,
          -0.00012009837153784209,
          -0.0011793755631158182,
          -0.0005576940293058333,
          -0.0020740743363143097,
          -0.00007137075407503399,
          -0.00011886792048197956,
          -0.0006771197183998411,
          -0.0011749501798933096,
          -0.0004548794605661094,
          -0.0012336231264901878,
          -0.0003148971232953225,
          -0.0012145211222966633,
          -0.0009743116427841422,
          -0.000011359901259473287
         ],
         "xaxis": "x2",
         "y": [
          "1,4-dihydroxy-6-naphthoate biosynthesis I",
          "8-amino-7-oxononanoate biosynthesis I",
          "L-methionine biosynthesis III",
          "L-tryptophan degradation to 2-amino-3-carboxymuconate semialdehyde",
          "NAD biosynthesis II (from tryptophan)",
          "TCA cycle VIII (helicobacter)",
          "biotin biosynthesis I",
          "biotin biosynthesis II",
          "chondroitin sulfate degradation I (bacterial)",
          "fatty acid &beta;-oxidation I",
          "isopropanol biosynthesis",
          "myo-, chiro- and scillo-inositol degradation",
          "photorespiration",
          "pyridoxal 5'-phosphate biosynthesis I",
          "pyruvate fermentation to butanoate",
          "pyruvate fermentation to propanoate I",
          "superpathway of (R,R)-butanediol biosynthesis",
          "superpathway of 2,3-butanediol biosynthesis",
          "superpathway of Clostridium acetobutylicum acidogenic fermentation",
          "superpathway of glucose and xylose degradation",
          "superpathway of heme biosynthesis from glycine",
          "superpathway of histidine, purine, and pyrimidine biosynthesis",
          "superpathway of menaquinol-8 biosynthesis II",
          "superpathway of pyridoxal 5'-phosphate biosynthesis and salvage",
          "superpathway of pyrimidine deoxyribonucleotides de novo biosynthesis",
          "superpathway of taurine degradation"
         ],
         "yaxis": "y2"
        },
        {
         "colorbar": {
          "x": 0.8
         },
         "colorscale": [
          [
           0,
           "rgb(103,0,31)"
          ],
          [
           0.1,
           "rgb(178,24,43)"
          ],
          [
           0.2,
           "rgb(214,96,77)"
          ],
          [
           0.3,
           "rgb(244,165,130)"
          ],
          [
           0.4,
           "rgb(253,219,199)"
          ],
          [
           0.5,
           "rgb(247,247,247)"
          ],
          [
           0.6,
           "rgb(209,229,240)"
          ],
          [
           0.7,
           "rgb(146,197,222)"
          ],
          [
           0.8,
           "rgb(67,147,195)"
          ],
          [
           0.9,
           "rgb(33,102,172)"
          ],
          [
           1,
           "rgb(5,48,97)"
          ]
         ],
         "type": "heatmap",
         "x": [
          "p_value"
         ],
         "xaxis": "x3",
         "y": [
          "1,4-dihydroxy-6-naphthoate biosynthesis I",
          "8-amino-7-oxononanoate biosynthesis I",
          "L-methionine biosynthesis III",
          "L-tryptophan degradation to 2-amino-3-carboxymuconate semialdehyde",
          "NAD biosynthesis II (from tryptophan)",
          "TCA cycle VIII (helicobacter)",
          "biotin biosynthesis I",
          "biotin biosynthesis II",
          "chondroitin sulfate degradation I (bacterial)",
          "fatty acid &beta;-oxidation I",
          "isopropanol biosynthesis",
          "myo-, chiro- and scillo-inositol degradation",
          "photorespiration",
          "pyridoxal 5'-phosphate biosynthesis I",
          "pyruvate fermentation to butanoate",
          "pyruvate fermentation to propanoate I",
          "superpathway of (R,R)-butanediol biosynthesis",
          "superpathway of 2,3-butanediol biosynthesis",
          "superpathway of Clostridium acetobutylicum acidogenic fermentation",
          "superpathway of glucose and xylose degradation",
          "superpathway of heme biosynthesis from glycine",
          "superpathway of histidine, purine, and pyrimidine biosynthesis",
          "superpathway of menaquinol-8 biosynthesis II",
          "superpathway of pyridoxal 5'-phosphate biosynthesis and salvage",
          "superpathway of pyrimidine deoxyribonucleotides de novo biosynthesis",
          "superpathway of taurine degradation"
         ],
         "yaxis": "y3",
         "z": [
          [
           0.00003429854969320899
          ],
          [
           0.00011596511560356148
          ],
          [
           0.00009820887876542872
          ],
          [
           0.000001972888281522594
          ],
          [
           0.0000018813882688987582
          ],
          [
           0.00006690892081342055
          ],
          [
           0.0000036409840681951235
          ],
          [
           0.000059155516474745253
          ],
          [
           0.0001146331840889126
          ],
          [
           0.00008634235351103938
          ],
          [
           0.000026203019599356317
          ],
          [
           0.000013535535632353423
          ],
          [
           0.000017402906729612946
          ],
          [
           7.824074836812206e-8
          ],
          [
           0.000004646593056975195
          ],
          [
           4.764410230546887e-7
          ],
          [
           0.00007906597145266652
          ],
          [
           0.00002309920156917918
          ],
          [
           0.000004207534720973154
          ],
          [
           0.000009590896117456921
          ],
          [
           0.00006191025058904566
          ],
          [
           0.0000011508486018484795
          ],
          [
           0.0000821848918172181
          ],
          [
           1.8387746431946037e-8
          ],
          [
           0.00006686603761447673
          ],
          [
           0.00011942652423892398
          ]
         ]
        }
       ],
       "layout": {
        "annotations": [
         {
          "font": {
           "size": 16
          },
          "showarrow": false,
          "text": "Relative abundance",
          "x": 0.14444444444444446,
          "xanchor": "center",
          "xref": "paper",
          "y": 1,
          "yanchor": "bottom",
          "yref": "paper"
         },
         {
          "font": {
           "size": 16
          },
          "showarrow": false,
          "text": "Difference in means",
          "x": 0.5,
          "xanchor": "center",
          "xref": "paper",
          "y": 1,
          "yanchor": "bottom",
          "yref": "paper"
         }
        ],
        "height": 500,
        "shapes": [
         {
          "line": {
           "color": "white"
          },
          "type": "line",
          "x0": -0.5,
          "x1": 1.5,
          "xref": "x",
          "y0": -0.5,
          "y1": -0.5,
          "yref": "y"
         },
         {
          "line": {
           "color": "white"
          },
          "type": "line",
          "x0": -0.5,
          "x1": 1.5,
          "xref": "x",
          "y0": 0.5,
          "y1": 0.5,
          "yref": "y"
         },
         {
          "line": {
           "color": "white"
          },
          "type": "line",
          "x0": -0.5,
          "x1": 1.5,
          "xref": "x",
          "y0": 1.5,
          "y1": 1.5,
          "yref": "y"
         },
         {
          "line": {
           "color": "white"
          },
          "type": "line",
          "x0": -0.5,
          "x1": 1.5,
          "xref": "x",
          "y0": 2.5,
          "y1": 2.5,
          "yref": "y"
         },
         {
          "line": {
           "color": "white"
          },
          "type": "line",
          "x0": -0.5,
          "x1": 1.5,
          "xref": "x",
          "y0": 3.5,
          "y1": 3.5,
          "yref": "y"
         },
         {
          "line": {
           "color": "white"
          },
          "type": "line",
          "x0": -0.5,
          "x1": 1.5,
          "xref": "x",
          "y0": 4.5,
          "y1": 4.5,
          "yref": "y"
         },
         {
          "line": {
           "color": "white"
          },
          "type": "line",
          "x0": -0.5,
          "x1": 1.5,
          "xref": "x",
          "y0": 5.5,
          "y1": 5.5,
          "yref": "y"
         },
         {
          "line": {
           "color": "white"
          },
          "type": "line",
          "x0": -0.5,
          "x1": 1.5,
          "xref": "x",
          "y0": 6.5,
          "y1": 6.5,
          "yref": "y"
         },
         {
          "line": {
           "color": "white"
          },
          "type": "line",
          "x0": -0.5,
          "x1": 1.5,
          "xref": "x",
          "y0": 7.5,
          "y1": 7.5,
          "yref": "y"
         },
         {
          "line": {
           "color": "white"
          },
          "type": "line",
          "x0": -0.5,
          "x1": 1.5,
          "xref": "x",
          "y0": 8.5,
          "y1": 8.5,
          "yref": "y"
         },
         {
          "line": {
           "color": "white"
          },
          "type": "line",
          "x0": -0.5,
          "x1": 1.5,
          "xref": "x",
          "y0": 9.5,
          "y1": 9.5,
          "yref": "y"
         },
         {
          "line": {
           "color": "white"
          },
          "type": "line",
          "x0": -0.5,
          "x1": 1.5,
          "xref": "x",
          "y0": 10.5,
          "y1": 10.5,
          "yref": "y"
         },
         {
          "line": {
           "color": "white"
          },
          "type": "line",
          "x0": -0.5,
          "x1": 1.5,
          "xref": "x",
          "y0": 11.5,
          "y1": 11.5,
          "yref": "y"
         },
         {
          "line": {
           "color": "white"
          },
          "type": "line",
          "x0": -0.5,
          "x1": 1.5,
          "xref": "x",
          "y0": 12.5,
          "y1": 12.5,
          "yref": "y"
         },
         {
          "line": {
           "color": "white"
          },
          "type": "line",
          "x0": -0.5,
          "x1": 1.5,
          "xref": "x",
          "y0": 13.5,
          "y1": 13.5,
          "yref": "y"
         },
         {
          "line": {
           "color": "white"
          },
          "type": "line",
          "x0": -0.5,
          "x1": 1.5,
          "xref": "x",
          "y0": 14.5,
          "y1": 14.5,
          "yref": "y"
         },
         {
          "line": {
           "color": "white"
          },
          "type": "line",
          "x0": -0.5,
          "x1": 1.5,
          "xref": "x",
          "y0": 15.5,
          "y1": 15.5,
          "yref": "y"
         },
         {
          "line": {
           "color": "white"
          },
          "type": "line",
          "x0": -0.5,
          "x1": 1.5,
          "xref": "x",
          "y0": 16.5,
          "y1": 16.5,
          "yref": "y"
         },
         {
          "line": {
           "color": "white"
          },
          "type": "line",
          "x0": -0.5,
          "x1": 1.5,
          "xref": "x",
          "y0": 17.5,
          "y1": 17.5,
          "yref": "y"
         },
         {
          "line": {
           "color": "white"
          },
          "type": "line",
          "x0": -0.5,
          "x1": 1.5,
          "xref": "x",
          "y0": 18.5,
          "y1": 18.5,
          "yref": "y"
         },
         {
          "line": {
           "color": "white"
          },
          "type": "line",
          "x0": -0.5,
          "x1": 1.5,
          "xref": "x",
          "y0": 19.5,
          "y1": 19.5,
          "yref": "y"
         },
         {
          "line": {
           "color": "white"
          },
          "type": "line",
          "x0": -0.5,
          "x1": 1.5,
          "xref": "x",
          "y0": 20.5,
          "y1": 20.5,
          "yref": "y"
         },
         {
          "line": {
           "color": "white"
          },
          "type": "line",
          "x0": -0.5,
          "x1": 1.5,
          "xref": "x",
          "y0": 21.5,
          "y1": 21.5,
          "yref": "y"
         },
         {
          "line": {
           "color": "white"
          },
          "type": "line",
          "x0": -0.5,
          "x1": 1.5,
          "xref": "x",
          "y0": 22.5,
          "y1": 22.5,
          "yref": "y"
         },
         {
          "line": {
           "color": "white"
          },
          "type": "line",
          "x0": -0.5,
          "x1": 1.5,
          "xref": "x",
          "y0": 23.5,
          "y1": 23.5,
          "yref": "y"
         },
         {
          "line": {
           "color": "white"
          },
          "type": "line",
          "x0": -0.5,
          "x1": 1.5,
          "xref": "x",
          "y0": 24.5,
          "y1": 24.5,
          "yref": "y"
         },
         {
          "line": {
           "color": "white"
          },
          "type": "line",
          "x0": -0.5,
          "x1": 1.5,
          "xref": "x",
          "y0": 25.5,
          "y1": 25.5,
          "yref": "y"
         },
         {
          "line": {
           "color": "white"
          },
          "type": "line",
          "x0": -0.5,
          "x1": -0.5,
          "xref": "x",
          "y0": -0.5,
          "y1": 25.5,
          "yref": "y"
         },
         {
          "line": {
           "color": "white"
          },
          "type": "line",
          "x0": 0.5,
          "x1": 0.5,
          "xref": "x",
          "y0": -0.5,
          "y1": 25.5,
          "yref": "y"
         },
         {
          "line": {
           "color": "white"
          },
          "type": "line",
          "x0": 1.5,
          "x1": 1.5,
          "xref": "x",
          "y0": -0.5,
          "y1": 25.5,
          "yref": "y"
         },
         {
          "line": {
           "color": "black"
          },
          "type": "line",
          "x0": -0.5,
          "x1": 0.5,
          "xref": "x3",
          "y0": -0.5,
          "y1": -0.5,
          "yref": "y3"
         },
         {
          "line": {
           "color": "black"
          },
          "type": "line",
          "x0": -0.5,
          "x1": 0.5,
          "xref": "x3",
          "y0": 0.5,
          "y1": 0.5,
          "yref": "y3"
         },
         {
          "line": {
           "color": "black"
          },
          "type": "line",
          "x0": -0.5,
          "x1": 0.5,
          "xref": "x3",
          "y0": 1.5,
          "y1": 1.5,
          "yref": "y3"
         },
         {
          "line": {
           "color": "black"
          },
          "type": "line",
          "x0": -0.5,
          "x1": 0.5,
          "xref": "x3",
          "y0": 2.5,
          "y1": 2.5,
          "yref": "y3"
         },
         {
          "line": {
           "color": "black"
          },
          "type": "line",
          "x0": -0.5,
          "x1": 0.5,
          "xref": "x3",
          "y0": 3.5,
          "y1": 3.5,
          "yref": "y3"
         },
         {
          "line": {
           "color": "black"
          },
          "type": "line",
          "x0": -0.5,
          "x1": 0.5,
          "xref": "x3",
          "y0": 4.5,
          "y1": 4.5,
          "yref": "y3"
         },
         {
          "line": {
           "color": "black"
          },
          "type": "line",
          "x0": -0.5,
          "x1": 0.5,
          "xref": "x3",
          "y0": 5.5,
          "y1": 5.5,
          "yref": "y3"
         },
         {
          "line": {
           "color": "black"
          },
          "type": "line",
          "x0": -0.5,
          "x1": 0.5,
          "xref": "x3",
          "y0": 6.5,
          "y1": 6.5,
          "yref": "y3"
         },
         {
          "line": {
           "color": "black"
          },
          "type": "line",
          "x0": -0.5,
          "x1": 0.5,
          "xref": "x3",
          "y0": 7.5,
          "y1": 7.5,
          "yref": "y3"
         },
         {
          "line": {
           "color": "black"
          },
          "type": "line",
          "x0": -0.5,
          "x1": 0.5,
          "xref": "x3",
          "y0": 8.5,
          "y1": 8.5,
          "yref": "y3"
         },
         {
          "line": {
           "color": "black"
          },
          "type": "line",
          "x0": -0.5,
          "x1": 0.5,
          "xref": "x3",
          "y0": 9.5,
          "y1": 9.5,
          "yref": "y3"
         },
         {
          "line": {
           "color": "black"
          },
          "type": "line",
          "x0": -0.5,
          "x1": 0.5,
          "xref": "x3",
          "y0": 10.5,
          "y1": 10.5,
          "yref": "y3"
         },
         {
          "line": {
           "color": "black"
          },
          "type": "line",
          "x0": -0.5,
          "x1": 0.5,
          "xref": "x3",
          "y0": 11.5,
          "y1": 11.5,
          "yref": "y3"
         },
         {
          "line": {
           "color": "black"
          },
          "type": "line",
          "x0": -0.5,
          "x1": 0.5,
          "xref": "x3",
          "y0": 12.5,
          "y1": 12.5,
          "yref": "y3"
         },
         {
          "line": {
           "color": "black"
          },
          "type": "line",
          "x0": -0.5,
          "x1": 0.5,
          "xref": "x3",
          "y0": 13.5,
          "y1": 13.5,
          "yref": "y3"
         },
         {
          "line": {
           "color": "black"
          },
          "type": "line",
          "x0": -0.5,
          "x1": 0.5,
          "xref": "x3",
          "y0": 14.5,
          "y1": 14.5,
          "yref": "y3"
         },
         {
          "line": {
           "color": "black"
          },
          "type": "line",
          "x0": -0.5,
          "x1": 0.5,
          "xref": "x3",
          "y0": 15.5,
          "y1": 15.5,
          "yref": "y3"
         },
         {
          "line": {
           "color": "black"
          },
          "type": "line",
          "x0": -0.5,
          "x1": 0.5,
          "xref": "x3",
          "y0": 16.5,
          "y1": 16.5,
          "yref": "y3"
         },
         {
          "line": {
           "color": "black"
          },
          "type": "line",
          "x0": -0.5,
          "x1": 0.5,
          "xref": "x3",
          "y0": 17.5,
          "y1": 17.5,
          "yref": "y3"
         },
         {
          "line": {
           "color": "black"
          },
          "type": "line",
          "x0": -0.5,
          "x1": 0.5,
          "xref": "x3",
          "y0": 18.5,
          "y1": 18.5,
          "yref": "y3"
         },
         {
          "line": {
           "color": "black"
          },
          "type": "line",
          "x0": -0.5,
          "x1": 0.5,
          "xref": "x3",
          "y0": 19.5,
          "y1": 19.5,
          "yref": "y3"
         },
         {
          "line": {
           "color": "black"
          },
          "type": "line",
          "x0": -0.5,
          "x1": 0.5,
          "xref": "x3",
          "y0": 20.5,
          "y1": 20.5,
          "yref": "y3"
         },
         {
          "line": {
           "color": "black"
          },
          "type": "line",
          "x0": -0.5,
          "x1": 0.5,
          "xref": "x3",
          "y0": 21.5,
          "y1": 21.5,
          "yref": "y3"
         },
         {
          "line": {
           "color": "black"
          },
          "type": "line",
          "x0": -0.5,
          "x1": 0.5,
          "xref": "x3",
          "y0": 22.5,
          "y1": 22.5,
          "yref": "y3"
         },
         {
          "line": {
           "color": "black"
          },
          "type": "line",
          "x0": -0.5,
          "x1": 0.5,
          "xref": "x3",
          "y0": 23.5,
          "y1": 23.5,
          "yref": "y3"
         },
         {
          "line": {
           "color": "black"
          },
          "type": "line",
          "x0": -0.5,
          "x1": 0.5,
          "xref": "x3",
          "y0": 24.5,
          "y1": 24.5,
          "yref": "y3"
         },
         {
          "line": {
           "color": "black"
          },
          "type": "line",
          "x0": -0.5,
          "x1": 0.5,
          "xref": "x3",
          "y0": 25.5,
          "y1": 25.5,
          "yref": "y3"
         },
         {
          "line": {
           "color": "black"
          },
          "type": "line",
          "x0": -0.5,
          "x1": -0.5,
          "xref": "x3",
          "y0": -0.5,
          "y1": 25.5,
          "yref": "y3"
         },
         {
          "line": {
           "color": "black"
          },
          "type": "line",
          "x0": 0.5,
          "x1": 0.5,
          "xref": "x3",
          "y0": -0.5,
          "y1": 25.5,
          "yref": "y3"
         }
        ],
        "showlegend": false,
        "template": {
         "data": {
          "bar": [
           {
            "error_x": {
             "color": "#2a3f5f"
            },
            "error_y": {
             "color": "#2a3f5f"
            },
            "marker": {
             "line": {
              "color": "#E5ECF6",
              "width": 0.5
             },
             "pattern": {
              "fillmode": "overlay",
              "size": 10,
              "solidity": 0.2
             }
            },
            "type": "bar"
           }
          ],
          "barpolar": [
           {
            "marker": {
             "line": {
              "color": "#E5ECF6",
              "width": 0.5
             },
             "pattern": {
              "fillmode": "overlay",
              "size": 10,
              "solidity": 0.2
             }
            },
            "type": "barpolar"
           }
          ],
          "carpet": [
           {
            "aaxis": {
             "endlinecolor": "#2a3f5f",
             "gridcolor": "white",
             "linecolor": "white",
             "minorgridcolor": "white",
             "startlinecolor": "#2a3f5f"
            },
            "baxis": {
             "endlinecolor": "#2a3f5f",
             "gridcolor": "white",
             "linecolor": "white",
             "minorgridcolor": "white",
             "startlinecolor": "#2a3f5f"
            },
            "type": "carpet"
           }
          ],
          "choropleth": [
           {
            "colorbar": {
             "outlinewidth": 0,
             "ticks": ""
            },
            "type": "choropleth"
           }
          ],
          "contour": [
           {
            "colorbar": {
             "outlinewidth": 0,
             "ticks": ""
            },
            "colorscale": [
             [
              0,
              "#0d0887"
             ],
             [
              0.1111111111111111,
              "#46039f"
             ],
             [
              0.2222222222222222,
              "#7201a8"
             ],
             [
              0.3333333333333333,
              "#9c179e"
             ],
             [
              0.4444444444444444,
              "#bd3786"
             ],
             [
              0.5555555555555556,
              "#d8576b"
             ],
             [
              0.6666666666666666,
              "#ed7953"
             ],
             [
              0.7777777777777778,
              "#fb9f3a"
             ],
             [
              0.8888888888888888,
              "#fdca26"
             ],
             [
              1,
              "#f0f921"
             ]
            ],
            "type": "contour"
           }
          ],
          "contourcarpet": [
           {
            "colorbar": {
             "outlinewidth": 0,
             "ticks": ""
            },
            "type": "contourcarpet"
           }
          ],
          "heatmap": [
           {
            "colorbar": {
             "outlinewidth": 0,
             "ticks": ""
            },
            "colorscale": [
             [
              0,
              "#0d0887"
             ],
             [
              0.1111111111111111,
              "#46039f"
             ],
             [
              0.2222222222222222,
              "#7201a8"
             ],
             [
              0.3333333333333333,
              "#9c179e"
             ],
             [
              0.4444444444444444,
              "#bd3786"
             ],
             [
              0.5555555555555556,
              "#d8576b"
             ],
             [
              0.6666666666666666,
              "#ed7953"
             ],
             [
              0.7777777777777778,
              "#fb9f3a"
             ],
             [
              0.8888888888888888,
              "#fdca26"
             ],
             [
              1,
              "#f0f921"
             ]
            ],
            "type": "heatmap"
           }
          ],
          "heatmapgl": [
           {
            "colorbar": {
             "outlinewidth": 0,
             "ticks": ""
            },
            "colorscale": [
             [
              0,
              "#0d0887"
             ],
             [
              0.1111111111111111,
              "#46039f"
             ],
             [
              0.2222222222222222,
              "#7201a8"
             ],
             [
              0.3333333333333333,
              "#9c179e"
             ],
             [
              0.4444444444444444,
              "#bd3786"
             ],
             [
              0.5555555555555556,
              "#d8576b"
             ],
             [
              0.6666666666666666,
              "#ed7953"
             ],
             [
              0.7777777777777778,
              "#fb9f3a"
             ],
             [
              0.8888888888888888,
              "#fdca26"
             ],
             [
              1,
              "#f0f921"
             ]
            ],
            "type": "heatmapgl"
           }
          ],
          "histogram": [
           {
            "marker": {
             "pattern": {
              "fillmode": "overlay",
              "size": 10,
              "solidity": 0.2
             }
            },
            "type": "histogram"
           }
          ],
          "histogram2d": [
           {
            "colorbar": {
             "outlinewidth": 0,
             "ticks": ""
            },
            "colorscale": [
             [
              0,
              "#0d0887"
             ],
             [
              0.1111111111111111,
              "#46039f"
             ],
             [
              0.2222222222222222,
              "#7201a8"
             ],
             [
              0.3333333333333333,
              "#9c179e"
             ],
             [
              0.4444444444444444,
              "#bd3786"
             ],
             [
              0.5555555555555556,
              "#d8576b"
             ],
             [
              0.6666666666666666,
              "#ed7953"
             ],
             [
              0.7777777777777778,
              "#fb9f3a"
             ],
             [
              0.8888888888888888,
              "#fdca26"
             ],
             [
              1,
              "#f0f921"
             ]
            ],
            "type": "histogram2d"
           }
          ],
          "histogram2dcontour": [
           {
            "colorbar": {
             "outlinewidth": 0,
             "ticks": ""
            },
            "colorscale": [
             [
              0,
              "#0d0887"
             ],
             [
              0.1111111111111111,
              "#46039f"
             ],
             [
              0.2222222222222222,
              "#7201a8"
             ],
             [
              0.3333333333333333,
              "#9c179e"
             ],
             [
              0.4444444444444444,
              "#bd3786"
             ],
             [
              0.5555555555555556,
              "#d8576b"
             ],
             [
              0.6666666666666666,
              "#ed7953"
             ],
             [
              0.7777777777777778,
              "#fb9f3a"
             ],
             [
              0.8888888888888888,
              "#fdca26"
             ],
             [
              1,
              "#f0f921"
             ]
            ],
            "type": "histogram2dcontour"
           }
          ],
          "mesh3d": [
           {
            "colorbar": {
             "outlinewidth": 0,
             "ticks": ""
            },
            "type": "mesh3d"
           }
          ],
          "parcoords": [
           {
            "line": {
             "colorbar": {
              "outlinewidth": 0,
              "ticks": ""
             }
            },
            "type": "parcoords"
           }
          ],
          "pie": [
           {
            "automargin": true,
            "type": "pie"
           }
          ],
          "scatter": [
           {
            "fillpattern": {
             "fillmode": "overlay",
             "size": 10,
             "solidity": 0.2
            },
            "type": "scatter"
           }
          ],
          "scatter3d": [
           {
            "line": {
             "colorbar": {
              "outlinewidth": 0,
              "ticks": ""
             }
            },
            "marker": {
             "colorbar": {
              "outlinewidth": 0,
              "ticks": ""
             }
            },
            "type": "scatter3d"
           }
          ],
          "scattercarpet": [
           {
            "marker": {
             "colorbar": {
              "outlinewidth": 0,
              "ticks": ""
             }
            },
            "type": "scattercarpet"
           }
          ],
          "scattergeo": [
           {
            "marker": {
             "colorbar": {
              "outlinewidth": 0,
              "ticks": ""
             }
            },
            "type": "scattergeo"
           }
          ],
          "scattergl": [
           {
            "marker": {
             "colorbar": {
              "outlinewidth": 0,
              "ticks": ""
             }
            },
            "type": "scattergl"
           }
          ],
          "scattermapbox": [
           {
            "marker": {
             "colorbar": {
              "outlinewidth": 0,
              "ticks": ""
             }
            },
            "type": "scattermapbox"
           }
          ],
          "scatterpolar": [
           {
            "marker": {
             "colorbar": {
              "outlinewidth": 0,
              "ticks": ""
             }
            },
            "type": "scatterpolar"
           }
          ],
          "scatterpolargl": [
           {
            "marker": {
             "colorbar": {
              "outlinewidth": 0,
              "ticks": ""
             }
            },
            "type": "scatterpolargl"
           }
          ],
          "scatterternary": [
           {
            "marker": {
             "colorbar": {
              "outlinewidth": 0,
              "ticks": ""
             }
            },
            "type": "scatterternary"
           }
          ],
          "surface": [
           {
            "colorbar": {
             "outlinewidth": 0,
             "ticks": ""
            },
            "colorscale": [
             [
              0,
              "#0d0887"
             ],
             [
              0.1111111111111111,
              "#46039f"
             ],
             [
              0.2222222222222222,
              "#7201a8"
             ],
             [
              0.3333333333333333,
              "#9c179e"
             ],
             [
              0.4444444444444444,
              "#bd3786"
             ],
             [
              0.5555555555555556,
              "#d8576b"
             ],
             [
              0.6666666666666666,
              "#ed7953"
             ],
             [
              0.7777777777777778,
              "#fb9f3a"
             ],
             [
              0.8888888888888888,
              "#fdca26"
             ],
             [
              1,
              "#f0f921"
             ]
            ],
            "type": "surface"
           }
          ],
          "table": [
           {
            "cells": {
             "fill": {
              "color": "#EBF0F8"
             },
             "line": {
              "color": "white"
             }
            },
            "header": {
             "fill": {
              "color": "#C8D4E3"
             },
             "line": {
              "color": "white"
             }
            },
            "type": "table"
           }
          ]
         },
         "layout": {
          "annotationdefaults": {
           "arrowcolor": "#2a3f5f",
           "arrowhead": 0,
           "arrowwidth": 1
          },
          "autotypenumbers": "strict",
          "coloraxis": {
           "colorbar": {
            "outlinewidth": 0,
            "ticks": ""
           }
          },
          "colorscale": {
           "diverging": [
            [
             0,
             "#8e0152"
            ],
            [
             0.1,
             "#c51b7d"
            ],
            [
             0.2,
             "#de77ae"
            ],
            [
             0.3,
             "#f1b6da"
            ],
            [
             0.4,
             "#fde0ef"
            ],
            [
             0.5,
             "#f7f7f7"
            ],
            [
             0.6,
             "#e6f5d0"
            ],
            [
             0.7,
             "#b8e186"
            ],
            [
             0.8,
             "#7fbc41"
            ],
            [
             0.9,
             "#4d9221"
            ],
            [
             1,
             "#276419"
            ]
           ],
           "sequential": [
            [
             0,
             "#0d0887"
            ],
            [
             0.1111111111111111,
             "#46039f"
            ],
            [
             0.2222222222222222,
             "#7201a8"
            ],
            [
             0.3333333333333333,
             "#9c179e"
            ],
            [
             0.4444444444444444,
             "#bd3786"
            ],
            [
             0.5555555555555556,
             "#d8576b"
            ],
            [
             0.6666666666666666,
             "#ed7953"
            ],
            [
             0.7777777777777778,
             "#fb9f3a"
            ],
            [
             0.8888888888888888,
             "#fdca26"
            ],
            [
             1,
             "#f0f921"
            ]
           ],
           "sequentialminus": [
            [
             0,
             "#0d0887"
            ],
            [
             0.1111111111111111,
             "#46039f"
            ],
            [
             0.2222222222222222,
             "#7201a8"
            ],
            [
             0.3333333333333333,
             "#9c179e"
            ],
            [
             0.4444444444444444,
             "#bd3786"
            ],
            [
             0.5555555555555556,
             "#d8576b"
            ],
            [
             0.6666666666666666,
             "#ed7953"
            ],
            [
             0.7777777777777778,
             "#fb9f3a"
            ],
            [
             0.8888888888888888,
             "#fdca26"
            ],
            [
             1,
             "#f0f921"
            ]
           ]
          },
          "colorway": [
           "#636efa",
           "#EF553B",
           "#00cc96",
           "#ab63fa",
           "#FFA15A",
           "#19d3f3",
           "#FF6692",
           "#B6E880",
           "#FF97FF",
           "#FECB52"
          ],
          "font": {
           "color": "#2a3f5f"
          },
          "geo": {
           "bgcolor": "white",
           "lakecolor": "white",
           "landcolor": "#E5ECF6",
           "showlakes": true,
           "showland": true,
           "subunitcolor": "white"
          },
          "hoverlabel": {
           "align": "left"
          },
          "hovermode": "closest",
          "mapbox": {
           "style": "light"
          },
          "paper_bgcolor": "white",
          "plot_bgcolor": "#E5ECF6",
          "polar": {
           "angularaxis": {
            "gridcolor": "white",
            "linecolor": "white",
            "ticks": ""
           },
           "bgcolor": "#E5ECF6",
           "radialaxis": {
            "gridcolor": "white",
            "linecolor": "white",
            "ticks": ""
           }
          },
          "scene": {
           "xaxis": {
            "backgroundcolor": "#E5ECF6",
            "gridcolor": "white",
            "gridwidth": 2,
            "linecolor": "white",
            "showbackground": true,
            "ticks": "",
            "zerolinecolor": "white"
           },
           "yaxis": {
            "backgroundcolor": "#E5ECF6",
            "gridcolor": "white",
            "gridwidth": 2,
            "linecolor": "white",
            "showbackground": true,
            "ticks": "",
            "zerolinecolor": "white"
           },
           "zaxis": {
            "backgroundcolor": "#E5ECF6",
            "gridcolor": "white",
            "gridwidth": 2,
            "linecolor": "white",
            "showbackground": true,
            "ticks": "",
            "zerolinecolor": "white"
           }
          },
          "shapedefaults": {
           "line": {
            "color": "#2a3f5f"
           }
          },
          "ternary": {
           "aaxis": {
            "gridcolor": "white",
            "linecolor": "white",
            "ticks": ""
           },
           "baxis": {
            "gridcolor": "white",
            "linecolor": "white",
            "ticks": ""
           },
           "bgcolor": "#E5ECF6",
           "caxis": {
            "gridcolor": "white",
            "linecolor": "white",
            "ticks": ""
           }
          },
          "title": {
           "x": 0.05
          },
          "xaxis": {
           "automargin": true,
           "gridcolor": "white",
           "linecolor": "white",
           "ticks": "",
           "title": {
            "standoff": 15
           },
           "zerolinecolor": "white",
           "zerolinewidth": 2
          },
          "yaxis": {
           "automargin": true,
           "gridcolor": "white",
           "linecolor": "white",
           "ticks": "",
           "title": {
            "standoff": 15
           },
           "zerolinecolor": "white",
           "zerolinewidth": 2
          }
         }
        },
        "width": 1200,
        "xaxis": {
         "anchor": "y",
         "domain": [
          0,
          0.3
         ]
        },
        "xaxis2": {
         "anchor": "y2",
         "domain": [
          0.35,
          0.6
         ]
        },
        "xaxis3": {
         "anchor": "y3",
         "domain": [
          0.65,
          0.75
         ]
        },
        "yaxis": {
         "anchor": "x",
         "domain": [
          0,
          1
         ]
        },
        "yaxis2": {
         "anchor": "x2",
         "domain": [
          0,
          1
         ],
         "tickmode": "array",
         "tickvals": []
        },
        "yaxis3": {
         "anchor": "x3",
         "domain": [
          0,
          1
         ],
         "tickmode": "array",
         "tickvals": []
        }
       }
      }
     },
     "metadata": {},
     "output_type": "display_data"
    }
   ],
   "source": [
    "\n",
    "pathway_plotly(final_df_cmy, 'CMY', 500)"
   ]
  },
  {
   "cell_type": "code",
   "execution_count": 18,
   "metadata": {},
   "outputs": [
    {
     "data": {
      "image/png": "[encoded data removed]",
      "text/plain": [
       "<Figure size 640x480 with 1 Axes>"
      ]
     },
     "metadata": {},
     "output_type": "display_data"
    }
   ],
   "source": [
    "final_df_cmy[['CN', 'CMY']].plot(kind='bar', stacked=True)\n",
    "plt.title('Relative abundance comparison')\n",
    "plt.ylabel('Value')\n",
    "plt.show()\n"
   ]
  }
 ],
 "metadata": {
  "kernelspec": {
   "display_name": "vrats27.07",
   "language": "python",
   "name": "python3"
  },
  "language_info": {
   "codemirror_mode": {
    "name": "ipython",
    "version": 3
   },
   "file_extension": ".py",
   "mimetype": "text/x-python",
   "name": "python",
   "nbconvert_exporter": "python",
   "pygments_lexer": "ipython3",
   "version": "3.11.3"
  },
  "orig_nbformat": 4
 },
 "nbformat": 4,
 "nbformat_minor": 2
}
