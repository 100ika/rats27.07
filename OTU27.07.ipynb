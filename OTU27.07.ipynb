{
 "cells": [
  {
   "cell_type": "code",
   "execution_count": 1,
   "metadata": {},
   "outputs": [],
   "source": [
    "import pandas as pd\n",
    "import numpy as np\n",
    "import matplotlib.pyplot as plt\n",
    "import seaborn as sns\n",
    "import os\n",
    "otu_df = pd.read_csv('dataframes/OTU.csv', sep='\\t', index_col='OTU')\n",
    "taxonomy_df = pd.read_csv('dataframes/hiera_BLAST.csv', sep='\\t', index_col='OTU')\n",
    "metadata_df = pd.read_csv('dataframes/YOGURT-MAP.csv', sep='\\t', index_col='#SampleID')\n",
    "path_df = pd.read_csv('dataframes/path_df.csv', sep = ',')\n",
    "metadata_df = metadata_df.drop(columns=['fastqFile', 'Weight'])"
   ]
  }
 ],
 "metadata": {
  "kernelspec": {
   "display_name": "Python 3",
   "language": "python",
   "name": "python3"
  },
  "language_info": {
   "codemirror_mode": {
    "name": "ipython",
    "version": 3
   },
   "file_extension": ".py",
   "mimetype": "text/x-python",
   "name": "python",
   "nbconvert_exporter": "python",
   "pygments_lexer": "ipython3",
   "version": "3.10.6"
  },
  "orig_nbformat": 4
 },
 "nbformat": 4,
 "nbformat_minor": 2
}
